{
 "cells": [
  {
   "cell_type": "code",
   "execution_count": 1,
   "id": "c56d941f",
   "metadata": {},
   "outputs": [],
   "source": [
    "import sys\n",
    "import importlib"
   ]
  },
  {
   "cell_type": "code",
   "execution_count": 2,
   "id": "227c2be0",
   "metadata": {},
   "outputs": [],
   "source": [
    "from saxstats import saxstats\n",
    "from Ligand import Ligand\n",
    "from WAXS import *\n",
    "from PDB import PDB\n",
    "import rdkit\n",
    "from rdkit import Chem\n",
    "import numpy as np\n",
    "from Geometry import *"
   ]
  },
  {
   "cell_type": "code",
   "execution_count": 3,
   "id": "d1aa6b2d",
   "metadata": {},
   "outputs": [
    {
     "name": "stdout",
     "output_type": "stream",
     "text": [
      "This PDB does not seem to have hydrogens modeled\n"
     ]
    }
   ],
   "source": [
    "pro = PDB('1FIN_apo.pdb')"
   ]
  },
  {
   "cell_type": "code",
   "execution_count": 4,
   "id": "5ebe7aff",
   "metadata": {},
   "outputs": [
    {
     "name": "stdout",
     "output_type": "stream",
     "text": [
      "0.0\n",
      "2398\n"
     ]
    }
   ],
   "source": [
    "print(np.sum([True for x in pro.elements if x == 'H']))\n",
    "print(np.sum([True for x in pro.elements if x != 'H']))"
   ]
  },
  {
   "cell_type": "code",
   "execution_count": null,
   "id": "b6029118",
   "metadata": {},
   "outputs": [],
   "source": []
  },
  {
   "cell_type": "code",
   "execution_count": 18,
   "id": "04e8f342",
   "metadata": {
    "scrolled": true
   },
   "outputs": [
    {
     "name": "stdout",
     "output_type": "stream",
     "text": [
      "Generated 5 conformers\n",
      "CPU times: user 40.5 ms, sys: 2.82 ms, total: 43.3 ms\n",
      "Wall time: 41.1 ms\n"
     ]
    },
    {
     "name": "stderr",
     "output_type": "stream",
     "text": [
      "RDKit WARNING: [19:07:33] Molecule does not have explicit Hs. Consider calling AddHs()\n",
      "[19:07:33] Molecule does not have explicit Hs. Consider calling AddHs()\n",
      "RDKit WARNING: [19:07:33] UFFTYPER: Warning: hybridization set to SP3 for atom 0\n",
      "[19:07:33] UFFTYPER: Warning: hybridization set to SP3 for atom 0\n",
      "RDKit WARNING: [19:07:33] UFFTYPER: Warning: hybridization set to SP3 for atom 4\n",
      "[19:07:33] UFFTYPER: Warning: hybridization set to SP3 for atom 4\n",
      "[19:07:33] UFFTYPER: Warning: hybridization set to SP3 for atom 8\n",
      "RDKit WARNING: [19:07:33] UFFTYPER: Warning: hybridization set to SP3 for atom 8\n"
     ]
    }
   ],
   "source": [
    "%%time\n",
    "#lig = Ligand('c1ccccc1CCC')\n",
    "lig = Ligand('1FIN_ligand.pdb') \n",
    "lig.generate_conformers(5)\n",
    "# Chem.MolToPDBFile(lig.molecule, 'test.pdb')\n",
    "# print(lig.get_coordinates(0))"
   ]
  },
  {
   "cell_type": "code",
   "execution_count": 6,
   "id": "7bae0cbe",
   "metadata": {},
   "outputs": [],
   "source": [
    "import time"
   ]
  },
  {
   "cell_type": "code",
   "execution_count": 7,
   "id": "cf211b36",
   "metadata": {},
   "outputs": [
    {
     "name": "stdout",
     "output_type": "stream",
     "text": [
      "This PDB does not seem to have hydrogens modeled\n"
     ]
    }
   ],
   "source": [
    "pocket = PDB('test_fpocket/1FIN_apo_out/1FIN_apo_out.pdb')"
   ]
  },
  {
   "cell_type": "code",
   "execution_count": 23,
   "id": "dd43ba16",
   "metadata": {},
   "outputs": [
    {
     "name": "stdout",
     "output_type": "stream",
     "text": [
      "Trying conformer ID 4\n",
      "0.008 ms protein grid generation\n",
      "4.260 ms ligand grid generation\n",
      "41.020 ms binary dilation\n",
      "There are 12338 points deemed possible out of 253825 points purely from overlap.\n",
      "0.867 ms remove far zone\n",
      "0.219 ms pocket distance calculation\n",
      "There are 63 points deemed possible out of 253825 points after pocket overlap.\n",
      "0.596 ms pocket filter\n",
      "0.016 ms write out grid points\n",
      "Time elapsed: 0.048 s\n"
     ]
    }
   ],
   "source": [
    "t0 = time.time()\n",
    "confID = np.random.randint(0, 10)\n",
    "print(f'Trying conformer ID {confID}')\n",
    "pv, pg, ps, lv, lg, ls = overlap_grid(pro, lig, conformerID=0, pocket=pocket, \n",
    "                                      grid_spacing=1.0, radius=1.0, write_grid=False, timing=True)\n",
    "t1 = time.time()\n",
    "print(f'Time elapsed: {t1-t0:.3f} s')\n",
    "# saxstats.write_mrc(pv, ps, 'test_protein_convolved.mrc')\n",
    "# saxstats.write_mrc(lv, ls, 'test_ligand.mrc')"
   ]
  },
  {
   "cell_type": "code",
   "execution_count": null,
   "id": "9bd5b263",
   "metadata": {},
   "outputs": [],
   "source": []
  },
  {
   "cell_type": "code",
   "execution_count": 19,
   "id": "13dada97",
   "metadata": {
    "scrolled": true
   },
   "outputs": [
    {
     "name": "stdout",
     "output_type": "stream",
     "text": [
      "Conformation 0, orientation 5\n",
      "Conformation 0, orientation 10\n",
      "Conformation 0, orientation 15\n",
      "Conformation 0, orientation 20\n",
      "Conformation 0, orientation 25\n",
      "Conformation 0, orientation 30\n",
      "Conformation 0, orientation 35\n",
      "Conformation 0, orientation 40\n",
      "Conformation 0, orientation 45\n",
      "Conformation 0, orientation 50\n",
      "Conformation 0, orientation 55\n",
      "Conformation 0, orientation 60\n",
      "Conformation 0, orientation 65\n",
      "Conformation 0, orientation 70\n",
      "Conformation 0, orientation 75\n",
      "Conformation 0, orientation 80\n",
      "Conformation 0, orientation 85\n",
      "Conformation 0, orientation 90\n",
      "Conformation 0, orientation 95\n",
      "Conformation 0, orientation 100\n",
      "Conformation 0, orientation 105\n",
      "Conformation 0, orientation 110\n",
      "Conformation 0, orientation 115\n",
      "Elapsed: 5.007 s. Estimated remaining: 103.62314551967685\n",
      "Conformation 0, orientation 120\n",
      "Conformation 0, orientation 125\n",
      "Conformation 0, orientation 130\n",
      "Conformation 0, orientation 135\n",
      "Conformation 0, orientation 140\n",
      "Conformation 0, orientation 145\n",
      "Conformation 0, orientation 150\n",
      "Conformation 0, orientation 155\n",
      "Conformation 0, orientation 160\n",
      "Conformation 0, orientation 165\n",
      "Conformation 0, orientation 170\n",
      "Conformation 0, orientation 175\n",
      "Conformation 0, orientation 180\n",
      "Conformation 0, orientation 185\n",
      "Conformation 0, orientation 190\n",
      "Conformation 0, orientation 195\n",
      "Conformation 0, orientation 200\n",
      "Conformation 0, orientation 205\n",
      "Conformation 0, orientation 210\n",
      "Conformation 0, orientation 215\n",
      "Conformation 0, orientation 220\n",
      "Conformation 0, orientation 225\n",
      "Conformation 0, orientation 230\n",
      "Conformation 0, orientation 235\n",
      "Elapsed: 10.058 s. Estimated remaining: 99.043896032592\n",
      "Conformation 0, orientation 240\n",
      "Conformation 0, orientation 245\n",
      "Conformation 0, orientation 250\n",
      "Conformation 0, orientation 255\n",
      "Conformation 0, orientation 260\n",
      "Conformation 0, orientation 265\n",
      "Conformation 0, orientation 270\n",
      "Conformation 0, orientation 275\n",
      "Conformation 0, orientation 280\n",
      "Conformation 0, orientation 285\n",
      "Conformation 0, orientation 290\n",
      "Conformation 0, orientation 295\n",
      "Conformation 0, orientation 300\n",
      "Conformation 0, orientation 305\n",
      "Conformation 0, orientation 310\n",
      "Conformation 0, orientation 315\n",
      "Conformation 0, orientation 320\n",
      "Conformation 0, orientation 325\n",
      "Conformation 0, orientation 330\n",
      "Conformation 0, orientation 335\n",
      "Conformation 0, orientation 340\n",
      "Conformation 0, orientation 345\n",
      "Conformation 0, orientation 350\n",
      "Elapsed: 15.059 s. Estimated remaining: 94.77094022908442\n",
      "Conformation 0, orientation 355\n",
      "Conformation 0, orientation 360\n",
      "Conformation 0, orientation 365\n",
      "Conformation 0, orientation 370\n",
      "Conformation 0, orientation 375\n",
      "Conformation 0, orientation 380\n",
      "Conformation 0, orientation 385\n",
      "Conformation 0, orientation 390\n",
      "Conformation 0, orientation 395\n",
      "Conformation 0, orientation 400\n",
      "Conformation 0, orientation 405\n",
      "Conformation 0, orientation 410\n",
      "Conformation 0, orientation 415\n",
      "Conformation 0, orientation 420\n",
      "Conformation 0, orientation 425\n",
      "Conformation 0, orientation 430\n",
      "Conformation 0, orientation 435\n",
      "Conformation 0, orientation 440\n",
      "Conformation 0, orientation 445\n",
      "Conformation 0, orientation 450\n",
      "Conformation 0, orientation 455\n",
      "Conformation 0, orientation 460\n",
      "Conformation 0, orientation 465\n",
      "Elapsed: 20.090 s. Estimated remaining: 89.80368526165302\n",
      "Conformation 0, orientation 470\n",
      "Conformation 0, orientation 475\n",
      "Conformation 0, orientation 480\n",
      "Conformation 0, orientation 485\n",
      "Conformation 0, orientation 490\n",
      "Conformation 0, orientation 495\n",
      "Conformation 0, orientation 500\n",
      "Conformation 0, orientation 505\n",
      "Conformation 0, orientation 510\n",
      "Conformation 1, orientation 5\n",
      "Conformation 1, orientation 10\n",
      "Conformation 1, orientation 15\n",
      "Conformation 1, orientation 20\n",
      "Conformation 1, orientation 25\n",
      "Conformation 1, orientation 30\n",
      "Conformation 1, orientation 35\n",
      "Conformation 1, orientation 40\n",
      "Conformation 1, orientation 45\n",
      "Conformation 1, orientation 50\n",
      "Conformation 1, orientation 55\n",
      "Conformation 1, orientation 60\n",
      "Elapsed: 25.110 s. Estimated remaining: 86.48922440740797\n",
      "Conformation 1, orientation 65\n",
      "Conformation 1, orientation 70\n",
      "Conformation 1, orientation 75\n",
      "Conformation 1, orientation 80\n",
      "Conformation 1, orientation 85\n",
      "Conformation 1, orientation 90\n",
      "Conformation 1, orientation 95\n",
      "Conformation 1, orientation 100\n",
      "Conformation 1, orientation 105\n",
      "Conformation 1, orientation 110\n",
      "Conformation 1, orientation 115\n",
      "Conformation 1, orientation 120\n",
      "Conformation 1, orientation 125\n",
      "Conformation 1, orientation 130\n",
      "Conformation 1, orientation 135\n",
      "Conformation 1, orientation 140\n",
      "Conformation 1, orientation 145\n",
      "Conformation 1, orientation 150\n",
      "Conformation 1, orientation 155\n",
      "Conformation 1, orientation 160\n",
      "Elapsed: 30.134 s. Estimated remaining: 83.8148022363598\n",
      "Conformation 1, orientation 165\n",
      "Conformation 1, orientation 170\n",
      "Conformation 1, orientation 175\n",
      "Conformation 1, orientation 180\n",
      "Conformation 1, orientation 185\n",
      "Conformation 1, orientation 190\n",
      "Conformation 1, orientation 195\n",
      "Conformation 1, orientation 200\n",
      "Conformation 1, orientation 205\n",
      "Conformation 1, orientation 210\n",
      "Conformation 1, orientation 215\n",
      "Conformation 1, orientation 220\n",
      "Conformation 1, orientation 225\n",
      "Conformation 1, orientation 230\n",
      "Conformation 1, orientation 235\n",
      "Conformation 1, orientation 240\n",
      "Conformation 1, orientation 245\n",
      "Conformation 1, orientation 250\n",
      "Conformation 1, orientation 255\n",
      "Conformation 1, orientation 260\n",
      "Elapsed: 35.173 s. Estimated remaining: 80.86119487605144\n",
      "Conformation 1, orientation 265\n",
      "Conformation 1, orientation 270\n",
      "Conformation 1, orientation 275\n",
      "Conformation 1, orientation 280\n",
      "Conformation 1, orientation 285\n",
      "Conformation 1, orientation 290\n",
      "Conformation 1, orientation 295\n",
      "Conformation 1, orientation 300\n",
      "Conformation 1, orientation 305\n",
      "Conformation 1, orientation 310\n",
      "Conformation 1, orientation 315\n",
      "Conformation 1, orientation 320\n",
      "Conformation 1, orientation 325\n",
      "Conformation 1, orientation 330\n",
      "Conformation 1, orientation 335\n",
      "Conformation 1, orientation 340\n",
      "Conformation 1, orientation 345\n",
      "Conformation 1, orientation 350\n",
      "Conformation 1, orientation 355\n",
      "Conformation 1, orientation 360\n",
      "Elapsed: 40.193 s. Estimated remaining: 77.26550104628959\n",
      "Conformation 1, orientation 365\n",
      "Conformation 1, orientation 370\n",
      "Conformation 1, orientation 375\n",
      "Conformation 1, orientation 380\n",
      "Conformation 1, orientation 385\n",
      "Conformation 1, orientation 390\n",
      "Conformation 1, orientation 395\n",
      "Conformation 1, orientation 400\n",
      "Conformation 1, orientation 405\n",
      "Conformation 1, orientation 410\n",
      "Conformation 1, orientation 415\n",
      "Conformation 1, orientation 420\n",
      "Conformation 1, orientation 425\n",
      "Conformation 1, orientation 430\n",
      "Conformation 1, orientation 435\n",
      "Conformation 1, orientation 440\n",
      "Conformation 1, orientation 445\n",
      "Conformation 1, orientation 450\n",
      "Conformation 1, orientation 455\n",
      "Conformation 1, orientation 460\n",
      "Elapsed: 45.203 s. Estimated remaining: 73.36244877049181\n",
      "Conformation 1, orientation 465\n",
      "Conformation 1, orientation 470\n",
      "Conformation 1, orientation 475\n",
      "Conformation 1, orientation 480\n",
      "Conformation 1, orientation 485\n",
      "Conformation 1, orientation 490\n",
      "Conformation 1, orientation 495\n",
      "Conformation 1, orientation 500\n",
      "Conformation 1, orientation 505\n",
      "Conformation 1, orientation 510\n",
      "Conformation 2, orientation 5\n",
      "Conformation 2, orientation 10\n",
      "Conformation 2, orientation 15\n",
      "Conformation 2, orientation 20\n",
      "Conformation 2, orientation 25\n",
      "Conformation 2, orientation 30\n",
      "Conformation 2, orientation 35\n",
      "Conformation 2, orientation 40\n",
      "Conformation 2, orientation 45\n",
      "Conformation 2, orientation 50\n",
      "Conformation 2, orientation 55\n",
      "Elapsed: 50.213 s. Estimated remaining: 68.80978671709697\n",
      "Conformation 2, orientation 60\n",
      "Conformation 2, orientation 65\n",
      "Conformation 2, orientation 70\n",
      "Conformation 2, orientation 75\n",
      "Conformation 2, orientation 80\n",
      "Conformation 2, orientation 85\n",
      "Conformation 2, orientation 90\n",
      "Conformation 2, orientation 95\n",
      "Conformation 2, orientation 100\n",
      "Conformation 2, orientation 105\n",
      "Conformation 2, orientation 110\n",
      "Conformation 2, orientation 115\n",
      "Conformation 2, orientation 120\n",
      "Conformation 2, orientation 125\n",
      "Conformation 2, orientation 130\n",
      "Conformation 2, orientation 135\n",
      "Conformation 2, orientation 140\n",
      "Conformation 2, orientation 145\n",
      "Conformation 2, orientation 150\n",
      "Conformation 2, orientation 155\n",
      "Conformation 2, orientation 160\n",
      "Conformation 2, orientation 165\n",
      "Elapsed: 55.232 s. Estimated remaining: 63.48621960871366\n",
      "Conformation 2, orientation 170\n",
      "Conformation 2, orientation 175\n"
     ]
    },
    {
     "name": "stdout",
     "output_type": "stream",
     "text": [
      "Conformation 2, orientation 180\n",
      "Conformation 2, orientation 185\n",
      "Conformation 2, orientation 190\n",
      "Conformation 2, orientation 195\n",
      "Conformation 2, orientation 200\n",
      "Conformation 2, orientation 205\n",
      "Conformation 2, orientation 210\n",
      "Conformation 2, orientation 215\n",
      "Conformation 2, orientation 220\n",
      "Conformation 2, orientation 225\n",
      "Conformation 2, orientation 230\n",
      "Conformation 2, orientation 235\n",
      "Conformation 2, orientation 240\n",
      "Conformation 2, orientation 245\n",
      "Conformation 2, orientation 250\n",
      "Conformation 2, orientation 255\n",
      "Conformation 2, orientation 260\n",
      "Conformation 2, orientation 265\n",
      "Conformation 2, orientation 270\n",
      "Conformation 2, orientation 275\n",
      "Elapsed: 60.270 s. Estimated remaining: 58.323991576677834\n",
      "Conformation 2, orientation 280\n",
      "Conformation 2, orientation 285\n",
      "Conformation 2, orientation 290\n",
      "Conformation 2, orientation 295\n",
      "Conformation 2, orientation 300\n",
      "Conformation 2, orientation 305\n",
      "Conformation 2, orientation 310\n",
      "Conformation 2, orientation 315\n",
      "Conformation 2, orientation 320\n",
      "Conformation 2, orientation 325\n",
      "Conformation 2, orientation 330\n",
      "Conformation 2, orientation 335\n",
      "Conformation 2, orientation 340\n",
      "Conformation 2, orientation 345\n",
      "Conformation 2, orientation 350\n",
      "Conformation 2, orientation 355\n",
      "Conformation 2, orientation 360\n",
      "Conformation 2, orientation 365\n",
      "Conformation 2, orientation 370\n",
      "Conformation 2, orientation 375\n",
      "Conformation 2, orientation 380\n",
      "Conformation 2, orientation 385\n",
      "Elapsed: 65.274 s. Estimated remaining: 53.15359720467338\n",
      "Conformation 2, orientation 390\n",
      "Conformation 2, orientation 395\n",
      "Conformation 2, orientation 400\n",
      "Conformation 2, orientation 405\n",
      "Conformation 2, orientation 410\n",
      "Conformation 2, orientation 415\n",
      "Conformation 2, orientation 420\n",
      "Conformation 2, orientation 425\n",
      "Conformation 2, orientation 430\n",
      "Conformation 2, orientation 435\n",
      "Conformation 2, orientation 440\n",
      "Conformation 2, orientation 445\n",
      "Conformation 2, orientation 450\n",
      "Conformation 2, orientation 455\n",
      "Conformation 2, orientation 460\n",
      "Conformation 2, orientation 465\n",
      "Conformation 2, orientation 470\n",
      "Conformation 2, orientation 475\n",
      "Conformation 2, orientation 480\n",
      "Conformation 2, orientation 485\n",
      "Conformation 2, orientation 490\n",
      "Conformation 2, orientation 495\n",
      "Elapsed: 70.278 s. Estimated remaining: 48.08477958879973\n",
      "Conformation 2, orientation 500\n",
      "Conformation 2, orientation 505\n",
      "Conformation 2, orientation 510\n",
      "Conformation 3, orientation 5\n",
      "Conformation 3, orientation 10\n",
      "Conformation 3, orientation 15\n",
      "Conformation 3, orientation 20\n",
      "Conformation 3, orientation 25\n",
      "Conformation 3, orientation 30\n",
      "Conformation 3, orientation 35\n",
      "Conformation 3, orientation 40\n",
      "Conformation 3, orientation 45\n",
      "Conformation 3, orientation 50\n",
      "Conformation 3, orientation 55\n",
      "Conformation 3, orientation 60\n",
      "Conformation 3, orientation 65\n",
      "Conformation 3, orientation 70\n",
      "Conformation 3, orientation 75\n",
      "Conformation 3, orientation 80\n",
      "Elapsed: 75.298 s. Estimated remaining: 43.691210393552424\n",
      "Conformation 3, orientation 85\n",
      "Conformation 3, orientation 90\n",
      "Conformation 3, orientation 95\n",
      "Conformation 3, orientation 100\n",
      "Conformation 3, orientation 105\n",
      "Conformation 3, orientation 110\n",
      "Conformation 3, orientation 115\n",
      "Conformation 3, orientation 120\n",
      "Conformation 3, orientation 125\n",
      "Conformation 3, orientation 130\n",
      "Conformation 3, orientation 135\n",
      "Conformation 3, orientation 140\n",
      "Conformation 3, orientation 145\n",
      "Conformation 3, orientation 150\n",
      "Conformation 3, orientation 155\n",
      "Conformation 3, orientation 160\n",
      "Conformation 3, orientation 165\n",
      "Conformation 3, orientation 170\n",
      "Conformation 3, orientation 175\n",
      "Conformation 3, orientation 180\n",
      "Elapsed: 80.336 s. Estimated remaining: 39.37308051311373\n",
      "Conformation 3, orientation 185\n",
      "Conformation 3, orientation 190\n",
      "Conformation 3, orientation 195\n",
      "Conformation 3, orientation 200\n",
      "Conformation 3, orientation 205\n",
      "Conformation 3, orientation 210\n",
      "Conformation 3, orientation 215\n",
      "Conformation 3, orientation 220\n",
      "Conformation 3, orientation 225\n",
      "Conformation 3, orientation 230\n",
      "Conformation 3, orientation 235\n",
      "Conformation 3, orientation 240\n",
      "Conformation 3, orientation 245\n",
      "Conformation 3, orientation 250\n",
      "Conformation 3, orientation 255\n",
      "Conformation 3, orientation 260\n",
      "Conformation 3, orientation 265\n",
      "Conformation 3, orientation 270\n",
      "Conformation 3, orientation 275\n",
      "Elapsed: 85.340 s. Estimated remaining: 35.029218582410785\n",
      "Conformation 3, orientation 280\n",
      "Conformation 3, orientation 285\n",
      "Conformation 3, orientation 290\n",
      "Conformation 3, orientation 295\n",
      "Conformation 3, orientation 300\n",
      "Conformation 3, orientation 305\n",
      "Conformation 3, orientation 310\n",
      "Conformation 3, orientation 315\n",
      "Conformation 3, orientation 320\n",
      "Conformation 3, orientation 325\n",
      "Conformation 3, orientation 330\n",
      "Conformation 3, orientation 335\n",
      "Conformation 3, orientation 340\n",
      "Conformation 3, orientation 345\n",
      "Conformation 3, orientation 350\n",
      "Conformation 3, orientation 355\n",
      "Conformation 3, orientation 360\n",
      "Conformation 3, orientation 365\n",
      "Conformation 3, orientation 370\n",
      "Conformation 3, orientation 375\n",
      "Elapsed: 90.395 s. Estimated remaining: 30.57277478551092\n",
      "Conformation 3, orientation 380\n",
      "Conformation 3, orientation 385\n",
      "Conformation 3, orientation 390\n",
      "Conformation 3, orientation 395\n",
      "Conformation 3, orientation 400\n",
      "Conformation 3, orientation 405\n",
      "Conformation 3, orientation 410\n",
      "Conformation 3, orientation 415\n",
      "Conformation 3, orientation 420\n",
      "Conformation 3, orientation 425\n",
      "Conformation 3, orientation 430\n",
      "Conformation 3, orientation 435\n",
      "Conformation 3, orientation 440\n",
      "Conformation 3, orientation 445\n",
      "Conformation 3, orientation 450\n",
      "Conformation 3, orientation 455\n",
      "Conformation 3, orientation 460\n",
      "Conformation 3, orientation 465\n",
      "Conformation 3, orientation 470\n",
      "Elapsed: 95.422 s. Estimated remaining: 26.049981685493314\n",
      "Conformation 3, orientation 475\n",
      "Conformation 3, orientation 480\n",
      "Conformation 3, orientation 485\n",
      "Conformation 3, orientation 490\n",
      "Conformation 3, orientation 495\n",
      "Conformation 3, orientation 500\n",
      "Conformation 3, orientation 505\n",
      "Conformation 3, orientation 510\n",
      "Conformation 4, orientation 5\n",
      "Conformation 4, orientation 10\n",
      "Conformation 4, orientation 15\n",
      "Conformation 4, orientation 20\n",
      "Conformation 4, orientation 25\n",
      "Conformation 4, orientation 30\n",
      "Conformation 4, orientation 35\n",
      "Conformation 4, orientation 40\n",
      "Conformation 4, orientation 45\n",
      "Conformation 4, orientation 50\n",
      "Conformation 4, orientation 55\n",
      "Conformation 4, orientation 60\n",
      "Conformation 4, orientation 65\n",
      "Elapsed: 100.454 s. Estimated remaining: 21.020754646567955\n",
      "Conformation 4, orientation 70\n",
      "Conformation 4, orientation 75\n",
      "Conformation 4, orientation 80\n",
      "Conformation 4, orientation 85\n",
      "Conformation 4, orientation 90\n",
      "Conformation 4, orientation 95\n",
      "Conformation 4, orientation 100\n",
      "Conformation 4, orientation 105\n",
      "Conformation 4, orientation 110\n",
      "Conformation 4, orientation 115\n",
      "Conformation 4, orientation 120\n",
      "Conformation 4, orientation 125\n",
      "Conformation 4, orientation 130\n",
      "Conformation 4, orientation 135\n",
      "Conformation 4, orientation 140\n",
      "Conformation 4, orientation 145\n",
      "Conformation 4, orientation 150\n",
      "Conformation 4, orientation 155\n",
      "Conformation 4, orientation 160\n",
      "Conformation 4, orientation 165\n",
      "Conformation 4, orientation 170\n",
      "Conformation 4, orientation 175\n",
      "Conformation 4, orientation 180\n",
      "Elapsed: 105.494 s. Estimated remaining: 15.448485888550755\n",
      "Conformation 4, orientation 185\n",
      "Conformation 4, orientation 190\n",
      "Conformation 4, orientation 195\n",
      "Conformation 4, orientation 200\n",
      "Conformation 4, orientation 205\n",
      "Conformation 4, orientation 210\n",
      "Conformation 4, orientation 215\n",
      "Conformation 4, orientation 220\n",
      "Conformation 4, orientation 225\n",
      "Conformation 4, orientation 230\n",
      "Conformation 4, orientation 235\n",
      "Conformation 4, orientation 240\n",
      "Conformation 4, orientation 245\n",
      "Conformation 4, orientation 250\n",
      "Conformation 4, orientation 255\n",
      "Conformation 4, orientation 260\n",
      "Conformation 4, orientation 265\n",
      "Conformation 4, orientation 270\n",
      "Conformation 4, orientation 275\n",
      "Conformation 4, orientation 280\n",
      "Conformation 4, orientation 285\n",
      "Conformation 4, orientation 290\n",
      "Conformation 4, orientation 295\n",
      "Elapsed: 110.525 s. Estimated remaining: 10.133395668285996\n",
      "Conformation 4, orientation 300\n",
      "Conformation 4, orientation 305\n",
      "Conformation 4, orientation 310\n",
      "Conformation 4, orientation 315\n",
      "Conformation 4, orientation 320\n",
      "Conformation 4, orientation 325\n",
      "Conformation 4, orientation 330\n",
      "Conformation 4, orientation 335\n",
      "Conformation 4, orientation 340\n",
      "Conformation 4, orientation 345\n"
     ]
    },
    {
     "name": "stdout",
     "output_type": "stream",
     "text": [
      "Conformation 4, orientation 350\n",
      "Conformation 4, orientation 355\n",
      "Conformation 4, orientation 360\n",
      "Conformation 4, orientation 365\n",
      "Conformation 4, orientation 370\n",
      "Conformation 4, orientation 375\n",
      "Conformation 4, orientation 380\n",
      "Conformation 4, orientation 385\n",
      "Conformation 4, orientation 390\n",
      "Conformation 4, orientation 395\n",
      "Conformation 4, orientation 400\n",
      "Conformation 4, orientation 405\n",
      "Conformation 4, orientation 410\n",
      "Elapsed: 115.549 s. Estimated remaining: 4.697114839786437\n",
      "Conformation 4, orientation 415\n",
      "Conformation 4, orientation 420\n",
      "Conformation 4, orientation 425\n",
      "Conformation 4, orientation 430\n",
      "Conformation 4, orientation 435\n",
      "Conformation 4, orientation 440\n",
      "Conformation 4, orientation 445\n",
      "Conformation 4, orientation 450\n",
      "Conformation 4, orientation 455\n",
      "Conformation 4, orientation 460\n",
      "Conformation 4, orientation 465\n",
      "Conformation 4, orientation 470\n",
      "Conformation 4, orientation 475\n",
      "Conformation 4, orientation 480\n",
      "Conformation 4, orientation 485\n",
      "Conformation 4, orientation 490\n",
      "Conformation 4, orientation 495\n",
      "Conformation 4, orientation 500\n",
      "Conformation 4, orientation 505\n",
      "Conformation 4, orientation 510\n"
     ]
    }
   ],
   "source": [
    "rmat = rotation_sampling(8)\n",
    "num_conditions = 5 * len(rmat)\n",
    "t0 = time.time()\n",
    "t1 = time.time()\n",
    "condition_idx = 0\n",
    "XS_calc_num = 0\n",
    "for confID in range(5):\n",
    "    for idx, rot in enumerate(rmat):\n",
    "        if idx > 0 and idx % 5 == 0:\n",
    "            print(f'Conformation {confID}, orientation {idx}')\n",
    "        pv, pg, ps, lv, lg, ls = overlap_grid(pro, lig, conformerID=confID, rotation=rot, pocket=pocket, \n",
    "                                              grid_spacing=1.0, radius=1.0, write_grid=False, timing=False, \n",
    "                                              printing=False)\n",
    "        XS_calc_num += np.sum(pv)\n",
    "        condition_idx += 1\n",
    "        t2 = time.time()\n",
    "        if (t2-t1) > 5:\n",
    "            print(f'Elapsed: {t2-t0:.3f} s. Estimated remaining: {(num_conditions - condition_idx) * (t2-t0) / condition_idx}')\n",
    "            t1 = t2"
   ]
  },
  {
   "cell_type": "code",
   "execution_count": 20,
   "id": "39bbd3d9",
   "metadata": {},
   "outputs": [
    {
     "data": {
      "text/plain": [
       "131816"
      ]
     },
     "execution_count": 20,
     "metadata": {},
     "output_type": "execute_result"
    }
   ],
   "source": [
    "XS_calc_num"
   ]
  },
  {
   "cell_type": "code",
   "execution_count": 23,
   "id": "3932306c",
   "metadata": {
    "scrolled": true
   },
   "outputs": [
    {
     "data": {
      "text/plain": [
       "array([[-13.,  -7.,  15.],\n",
       "       [ -7.,  -7.,  16.],\n",
       "       [ -6.,  -6.,  16.],\n",
       "       [ -1.,  -2., -21.],\n",
       "       [ -1.,  -1., -21.],\n",
       "       [ -1.,   0., -21.],\n",
       "       [  0.,  -2., -21.],\n",
       "       [  0.,  -1., -21.],\n",
       "       [  0.,  -1., -20.],\n",
       "       [  0.,   0., -21.],\n",
       "       [  1.,  -2., -21.],\n",
       "       [  1.,  -1., -21.],\n",
       "       [  1.,  -1., -20.],\n",
       "       [  1.,   0., -21.],\n",
       "       [  2.,  -2., -20.],\n",
       "       [  2.,  -1., -20.],\n",
       "       [  3.,  -2., -20.],\n",
       "       [  4.,  14., -19.],\n",
       "       [  5.,  13., -19.],\n",
       "       [  5.,  14., -19.],\n",
       "       [  5.,  15., -18.],\n",
       "       [  6.,  14., -18.],\n",
       "       [  6.,  15., -18.],\n",
       "       [  9.,  -9.,  -5.],\n",
       "       [ 10.,  -9.,  -6.],\n",
       "       [ 10.,  -9.,  -5.],\n",
       "       [ 10.,  -8.,  -4.],\n",
       "       [ 11.,  -9.,  -7.],\n",
       "       [ 11.,  -9.,  -6.],\n",
       "       [ 11.,  -9.,  -5.],\n",
       "       [ 11.,  -8.,  -8.],\n",
       "       [ 11.,  -8.,  -7.],\n",
       "       [ 11.,  -8.,  -6.],\n",
       "       [ 11.,  -8.,  -5.],\n",
       "       [ 11.,  -8.,  -4.],\n",
       "       [ 12.,  -9.,  -7.],\n",
       "       [ 12.,  -9.,  -6.],\n",
       "       [ 12.,  -9.,  -5.],\n",
       "       [ 12.,  -8.,  -8.],\n",
       "       [ 12.,  -8.,  -7.],\n",
       "       [ 12.,  -8.,  -6.],\n",
       "       [ 12.,  -8.,  -5.],\n",
       "       [ 12.,  -8.,  -4.],\n",
       "       [ 12.,  -7.,  -5.],\n",
       "       [ 12.,  -7.,  -4.],\n",
       "       [ 13.,  -9.,  -6.],\n",
       "       [ 13.,  -9.,  -5.],\n",
       "       [ 13.,  -8.,  -7.],\n",
       "       [ 13.,  -8.,  -6.],\n",
       "       [ 13.,  -8.,  -5.],\n",
       "       [ 13.,  -8.,  -4.],\n",
       "       [ 13.,  -7.,  -4.],\n",
       "       [ 14.,  -9.,  -7.],\n",
       "       [ 14.,  -9.,  -6.],\n",
       "       [ 14.,  -8.,  -6.],\n",
       "       [ 14.,  -8.,  -5.],\n",
       "       [ 14.,  -8.,  -4.],\n",
       "       [ 14.,  -7.,  -5.],\n",
       "       [ 14.,  -7.,  -4.],\n",
       "       [ 14.,  -7.,  -3.],\n",
       "       [ 15.,  -8.,  -6.],\n",
       "       [ 15.,  -7.,  -5.],\n",
       "       [ 17.,  -8.,  -7.],\n",
       "       [ 22.,   9.,  -7.],\n",
       "       [ 23.,  10.,  -7.]])"
      ]
     },
     "execution_count": 23,
     "metadata": {},
     "output_type": "execute_result"
    }
   ],
   "source": [
    "pg[pv.flatten()]"
   ]
  },
  {
   "cell_type": "code",
   "execution_count": 9,
   "id": "99672ccf",
   "metadata": {},
   "outputs": [
    {
     "data": {
      "text/plain": [
       "array(['P', 'O', 'O', 'O', 'P', 'O', 'O', 'O', 'P', 'O', 'O', 'O', 'O',\n",
       "       'C', 'C', 'O', 'C', 'O', 'C', 'O', 'C', 'N', 'C', 'N', 'C', 'C',\n",
       "       'N', 'N', 'C', 'N', 'C'], dtype='<U1')"
      ]
     },
     "execution_count": 9,
     "metadata": {},
     "output_type": "execute_result"
    }
   ],
   "source": [
    "lig.elements"
   ]
  },
  {
   "cell_type": "code",
   "execution_count": 11,
   "id": "1fdc6844",
   "metadata": {},
   "outputs": [],
   "source": [
    "def write_grid_search_xyz(lig, gp, fname='grid_ligand.xyz'):\n",
    "    lig_coord_init = lig.get_coordinates(0)\n",
    "    lig_coord_origin = lig_coord_init - np.mean(lig_coord_init, axis=0) #- np.mean(lig_coord_init, axis=0)\n",
    "    with open(fname, 'w') as f:\n",
    "        for idx, gp_xyz in enumerate(gp):\n",
    "            lig_coord_this_grid = lig_coord_origin + gp_xyz\n",
    "            f.write(f'{lig.num_atoms+1}\\n')\n",
    "            f.write(f'Grid pt {idx}: {gp_xyz[0]:.2f} {gp_xyz[1]:.2f} {gp_xyz[2]:.2f}\\n')\n",
    "            for ele, xyz in zip(lig.elements, lig_coord_this_grid):\n",
    "                f.write(f'{ele} {xyz[0]} {xyz[1]} {xyz[2]}\\n')\n",
    "            f.write(f'X {gp_xyz[0]} {gp_xyz[1]} {gp_xyz[2]}\\n')\n",
    "        f.write('\\n\\n')"
   ]
  },
  {
   "cell_type": "code",
   "execution_count": 12,
   "id": "61417a89",
   "metadata": {},
   "outputs": [],
   "source": [
    "write_grid_search_xyz(lig, pg[pv.flatten()], fname='grid_ligand3.xyz')"
   ]
  },
  {
   "cell_type": "code",
   "execution_count": 13,
   "id": "f277a092",
   "metadata": {},
   "outputs": [],
   "source": [
    "write_grid_search_xyz(lig, [lig.get_coordinates(0).mean(0)], fname='ligand_COM.xyz')"
   ]
  },
  {
   "cell_type": "code",
   "execution_count": 14,
   "id": "296d298e",
   "metadata": {},
   "outputs": [
    {
     "data": {
      "text/plain": [
       "array([ 7.56209677, -9.4603871 , -2.96754839])"
      ]
     },
     "execution_count": 14,
     "metadata": {},
     "output_type": "execute_result"
    }
   ],
   "source": [
    "lig.get_coordinates(0).mean(0)"
   ]
  },
  {
   "cell_type": "code",
   "execution_count": 15,
   "id": "0eccd009",
   "metadata": {},
   "outputs": [
    {
     "data": {
      "text/plain": [
       "array([ 7.108 , -9.8465, -3.143 ])"
      ]
     },
     "execution_count": 15,
     "metadata": {},
     "output_type": "execute_result"
    }
   ],
   "source": [
    "np.stack(min_max(lig.get_coordinates(0))).mean(0)"
   ]
  },
  {
   "cell_type": "code",
   "execution_count": 16,
   "id": "01828e3d",
   "metadata": {},
   "outputs": [
    {
     "name": "stdout",
     "output_type": "stream",
     "text": [
      "This PDB does not seem to have hydrogens modeled\n"
     ]
    }
   ],
   "source": [
    "pocket = PDB('test_fpocket/1FIN_apo_out/1FIN_apo_out.pdb')"
   ]
  },
  {
   "cell_type": "code",
   "execution_count": 16,
   "id": "7aebaf96",
   "metadata": {},
   "outputs": [],
   "source": [
    "pocket_coord = pocket.pdb.coords[pocket.elements == 'Ve']"
   ]
  },
  {
   "cell_type": "code",
   "execution_count": 17,
   "id": "8db014e1",
   "metadata": {},
   "outputs": [
    {
     "data": {
      "text/plain": [
       "array([[13.756, -8.239, -7.681],\n",
       "       [13.826, -8.157, -7.646],\n",
       "       [13.726, -8.139, -7.627],\n",
       "       ...,\n",
       "       [17.881,  8.429, -5.555],\n",
       "       [17.822,  8.284, -5.585],\n",
       "       [17.664,  8.338, -4.666]])"
      ]
     },
     "execution_count": 17,
     "metadata": {},
     "output_type": "execute_result"
    }
   ],
   "source": [
    "pocket_coord"
   ]
  },
  {
   "cell_type": "code",
   "execution_count": 18,
   "id": "36ff7e1d",
   "metadata": {},
   "outputs": [
    {
     "data": {
      "text/plain": [
       "(253825, 3)"
      ]
     },
     "execution_count": 18,
     "metadata": {},
     "output_type": "execute_result"
    }
   ],
   "source": [
    "pg.shape"
   ]
  },
  {
   "cell_type": "code",
   "execution_count": 19,
   "id": "5a266fe8",
   "metadata": {},
   "outputs": [],
   "source": [
    "pv2 = distance_matrix(pg[pv.flatten()], pocket_coord).min(1) < 2"
   ]
  },
  {
   "cell_type": "code",
   "execution_count": 20,
   "id": "48ec9eb4",
   "metadata": {},
   "outputs": [],
   "source": [
    "write_grid_points(pg[pv.flatten()], pv2, fname='grid3.pdb')"
   ]
  },
  {
   "cell_type": "code",
   "execution_count": 21,
   "id": "2e31edfa",
   "metadata": {},
   "outputs": [
    {
     "data": {
      "text/plain": [
       "(99, 3)"
      ]
     },
     "execution_count": 21,
     "metadata": {},
     "output_type": "execute_result"
    }
   ],
   "source": [
    "pg[pv.flatten()][pv2].shape"
   ]
  },
  {
   "cell_type": "code",
   "execution_count": 8,
   "id": "89a8d01d",
   "metadata": {},
   "outputs": [
    {
     "data": {
      "text/plain": [
       "array([0, 1, 2])"
      ]
     },
     "execution_count": 8,
     "metadata": {},
     "output_type": "execute_result"
    }
   ],
   "source": [
    "np.arange(3)"
   ]
  },
  {
   "cell_type": "code",
   "execution_count": 50,
   "id": "ba8cb187",
   "metadata": {},
   "outputs": [],
   "source": [
    "def raster_unit_sphere(num=1000):\n",
    "    L = np.sqrt(num * np.pi);\n",
    "    pt = []\n",
    "    for i in range(num):\n",
    "        h = 1.0 - (2.0 * i + 1.0) / num\n",
    "        p = np.arccos(h)\n",
    "        t = L * p\n",
    "        xu = np.sin(p) * np.cos(t)\n",
    "        yu = np.sin(p) * np.sin(t)\n",
    "        zu = np.cos(p)\n",
    "        pt.append([xu, yu, zu])\n",
    "\n",
    "    return np.array(pt)\n"
   ]
  },
  {
   "cell_type": "code",
   "execution_count": 51,
   "id": "5b540c6d",
   "metadata": {},
   "outputs": [],
   "source": [
    "def rotation_matrix_from_vectors(vec1, vec2):\n",
    "    \"\"\" Find the rotation matrix that aligns vec1 to vec2\n",
    "    :param vec1: A 3d \"source\" vector\n",
    "    :param vec2: A 3d \"destination\" vector\n",
    "    :return mat: A transform matrix (3x3) which when applied to vec1, aligns it with vec2.\n",
    "    \"\"\"\n",
    "    a, b = (vec1 / np.linalg.norm(vec1)).reshape(3), (vec2 / np.linalg.norm(vec2)).reshape(3)\n",
    "    v = np.cross(a, b)\n",
    "    if any(v): #if not all zeros then \n",
    "        c = np.dot(a, b)\n",
    "        s = np.linalg.norm(v)\n",
    "        kmat = np.array([[0, -v[2], v[1]], [v[2], 0, -v[0]], [-v[1], v[0], 0]])\n",
    "        return np.eye(3) + kmat + kmat.dot(kmat) * ((1 - c) / (s ** 2))\n",
    "\n",
    "    else:\n",
    "        return np.eye(3) #cross of all zeros only occurs on identical directions\n"
   ]
  },
  {
   "cell_type": "code",
   "execution_count": 52,
   "id": "f5e0d46f",
   "metadata": {},
   "outputs": [],
   "source": [
    "us = raster_unit_sphere()"
   ]
  },
  {
   "cell_type": "code",
   "execution_count": 53,
   "id": "a01cbcd9",
   "metadata": {},
   "outputs": [],
   "source": [
    "zvec = np.array([0,0,1])"
   ]
  },
  {
   "cell_type": "code",
   "execution_count": 54,
   "id": "df44b5e6",
   "metadata": {},
   "outputs": [],
   "source": [
    "rmat = np.array([rotation_matrix_from_vectors(zvec, x) for x in us])"
   ]
  },
  {
   "cell_type": "code",
   "execution_count": 55,
   "id": "c2e74659",
   "metadata": {},
   "outputs": [
    {
     "data": {
      "text/plain": [
       "(31, 3)"
      ]
     },
     "execution_count": 55,
     "metadata": {},
     "output_type": "execute_result"
    }
   ],
   "source": [
    "(lig.get_coordinates(0) @ rmat[0]).shape"
   ]
  },
  {
   "cell_type": "code",
   "execution_count": 56,
   "id": "ad03175e",
   "metadata": {},
   "outputs": [],
   "source": [
    "def write_rotate_ligand_xyz(lig, rmat, us, fname='rotate_ligand.xyz'):\n",
    "    lig_coord_init = lig.get_coordinates(0)\n",
    "    lig_coord_origin = lig_coord_init - np.mean(lig_coord_init, axis=0) #- np.mean(lig_coord_init, axis=0)\n",
    "    with open(fname, 'w') as f:\n",
    "        for idx, (r, u) in enumerate(zip(rmat, us)):\n",
    "            lig_coord_this_grid = r @ lig_coord_origin \n",
    "            f.write(f'{lig.num_atoms+1}\\n')\n",
    "            f.write(f'Rotation pt {idx}: {u[0]:.2f} {u[1]:.2f} {u[2]:.2f}\\n')\n",
    "            for ele, xyz in zip(lig.elements, lig_coord_this_grid):\n",
    "                f.write(f'{ele} {xyz[0]} {xyz[1]} {xyz[2]}\\n')\n",
    "            f.write(f'X {u[0]*5} {u[1]*5} {u[2]*5}\\n')\n",
    "        f.write('\\n\\n')"
   ]
  },
  {
   "cell_type": "code",
   "execution_count": 59,
   "id": "446108fc",
   "metadata": {},
   "outputs": [],
   "source": [
    "def rotz(deg):\n",
    "    rad = deg / 180 * np.pi\n",
    "    return np.array([[np.cos(rad), np.sin(rad), 0], [-np.sin(rad), np.cos(rad), 0], [0, 0, 1]])\n",
    "def rotx(deg):\n",
    "    rad = deg / 180 * np.pi\n",
    "    return np.array([[1, 0, 0], [0, np.cos(rad), np.sin(rad)], [0, -np.sin(rad), np.cos(rad)]])\n",
    "def roty(deg):\n",
    "    rad = deg / 180 * np.pi\n",
    "    return np.array([[np.cos(rad), 0, -np.sin(rad)], [0, 1, 0], [np.sin(rad), 0, np.cos(rad)]])"
   ]
  },
  {
   "cell_type": "code",
   "execution_count": 68,
   "id": "7fbdf16a",
   "metadata": {},
   "outputs": [],
   "source": [
    "rmat = []\n",
    "sampling = 8\n",
    "for i in range(0, 360, 360//sampling):\n",
    "    for j in range(0, 360, 360//sampling):\n",
    "        for k in range(0, 360, 360//sampling):\n",
    "            rmat.append(rotx(i) @ roty(j) @ rotz(k))\n",
    "rmat = np.array(rmat)"
   ]
  },
  {
   "cell_type": "code",
   "execution_count": 70,
   "id": "c81a0b62",
   "metadata": {},
   "outputs": [
    {
     "data": {
      "text/plain": [
       "(512, 3, 3)"
      ]
     },
     "execution_count": 70,
     "metadata": {},
     "output_type": "execute_result"
    }
   ],
   "source": [
    "rmat.shape"
   ]
  },
  {
   "cell_type": "code",
   "execution_count": 71,
   "id": "e41efaaa",
   "metadata": {},
   "outputs": [],
   "source": [
    "us = rmat @ zvec"
   ]
  },
  {
   "cell_type": "code",
   "execution_count": 72,
   "id": "2caa0295",
   "metadata": {},
   "outputs": [
    {
     "data": {
      "text/plain": [
       "(512, 3)"
      ]
     },
     "execution_count": 72,
     "metadata": {},
     "output_type": "execute_result"
    }
   ],
   "source": [
    "us.shape"
   ]
  },
  {
   "cell_type": "code",
   "execution_count": 73,
   "id": "14be059d",
   "metadata": {},
   "outputs": [],
   "source": [
    "write_rotate_ligand_xyz(lig, rmat, us)"
   ]
  },
  {
   "cell_type": "code",
   "execution_count": null,
   "id": "8ceb31ff",
   "metadata": {},
   "outputs": [],
   "source": []
  }
 ],
 "metadata": {
  "kernelspec": {
   "display_name": "Python 3 (ipykernel)",
   "language": "python",
   "name": "python3"
  },
  "language_info": {
   "codemirror_mode": {
    "name": "ipython",
    "version": 3
   },
   "file_extension": ".py",
   "mimetype": "text/x-python",
   "name": "python",
   "nbconvert_exporter": "python",
   "pygments_lexer": "ipython3",
   "version": "3.7.10"
  }
 },
 "nbformat": 4,
 "nbformat_minor": 5
}
