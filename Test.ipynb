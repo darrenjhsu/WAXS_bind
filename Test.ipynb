{
 "cells": [
  {
   "cell_type": "code",
   "execution_count": 1,
   "id": "c56d941f",
   "metadata": {},
   "outputs": [],
   "source": [
    "import sys\n",
    "import importlib"
   ]
  },
  {
   "cell_type": "code",
   "execution_count": 2,
   "id": "227c2be0",
   "metadata": {},
   "outputs": [],
   "source": [
    "from saxstats import saxstats\n",
    "from Ligand import Ligand\n",
    "from WAXS import *\n",
    "from PDB import PDB\n",
    "import rdkit\n",
    "from rdkit import Chem\n",
    "import numpy as np"
   ]
  },
  {
   "cell_type": "code",
   "execution_count": 3,
   "id": "d1aa6b2d",
   "metadata": {},
   "outputs": [
    {
     "name": "stdout",
     "output_type": "stream",
     "text": [
      "This PDB does not seem to have hydrogens modeled\n"
     ]
    }
   ],
   "source": [
    "pro = PDB('1FIN_apo.pdb')"
   ]
  },
  {
   "cell_type": "code",
   "execution_count": 4,
   "id": "5ebe7aff",
   "metadata": {},
   "outputs": [
    {
     "name": "stdout",
     "output_type": "stream",
     "text": [
      "0.0\n",
      "2398\n"
     ]
    }
   ],
   "source": [
    "print(np.sum([True for x in pro.elements if x == 'H']))\n",
    "print(np.sum([True for x in pro.elements if x != 'H']))"
   ]
  },
  {
   "cell_type": "code",
   "execution_count": null,
   "id": "b6029118",
   "metadata": {},
   "outputs": [],
   "source": []
  },
  {
   "cell_type": "code",
   "execution_count": 52,
   "id": "04e8f342",
   "metadata": {
    "scrolled": true
   },
   "outputs": [
    {
     "name": "stdout",
     "output_type": "stream",
     "text": [
      "Generated 10 conformers\n"
     ]
    },
    {
     "name": "stderr",
     "output_type": "stream",
     "text": [
      "RDKit WARNING: [18:04:21] Molecule does not have explicit Hs. Consider calling AddHs()\n",
      "[18:04:21] Molecule does not have explicit Hs. Consider calling AddHs()\n",
      "RDKit WARNING: [18:04:21] UFFTYPER: Warning: hybridization set to SP3 for atom 0\n",
      "[18:04:21] UFFTYPER: Warning: hybridization set to SP3 for atom 0\n",
      "[18:04:21] UFFTYPER: Warning: hybridization set to SP3 for atom 4\n",
      "RDKit WARNING: [18:04:21] UFFTYPER: Warning: hybridization set to SP3 for atom 4\n",
      "[18:04:21] UFFTYPER: Warning: hybridization set to SP3 for atom 8\n",
      "RDKit WARNING: [18:04:21] UFFTYPER: Warning: hybridization set to SP3 for atom 8\n"
     ]
    }
   ],
   "source": [
    "#lig = Ligand('c1ccccc1CCC')\n",
    "lig = Ligand('1FIN_ligand.pdb')\n",
    "lig.generate_conformers()\n",
    "Chem.MolToPDBFile(lig.molecule, 'test.pdb')\n",
    "# print(lig.get_coordinates(0))"
   ]
  },
  {
   "cell_type": "code",
   "execution_count": 49,
   "id": "7bae0cbe",
   "metadata": {},
   "outputs": [],
   "source": [
    "import time"
   ]
  },
  {
   "cell_type": "code",
   "execution_count": 60,
   "id": "dd43ba16",
   "metadata": {},
   "outputs": [
    {
     "name": "stdout",
     "output_type": "stream",
     "text": [
      "[-8. -6. -4.] [7. 4. 4.] [15. 10.  8.]\n",
      "[-8.59527503e-17  1.36091855e-15  2.68036780e-01] [8.         6.         4.26803678]\n",
      "[-8. -6. -4.] [8.         6.         4.53607356] [16.         12.          8.53607356]\n",
      "[-26. -38. -31.] [28. 32. 33.] [54. 70. 64.]\n",
      "[55 71 65] [17 14 10] (253825, 3) (2398, 3) (2380, 3) (31, 3)\n",
      "Done with ligand volume\n",
      "2395\n",
      "87505\n",
      "240404\n",
      "7090\n",
      "0.18297886848449707\n"
     ]
    }
   ],
   "source": [
    "t0 = time.time()\n",
    "pv, pg, ps, lv, lg, ls = overlap_grid(pro, lig, 9, grid_spacing=1.0, radius=1.0)\n",
    "t1 = time.time()\n",
    "print(t1-t0)\n",
    "# saxstats.write_mrc(pv, ps, 'test_protein_convolved.mrc')\n",
    "# saxstats.write_mrc(lv, ls, 'test_ligand.mrc')"
   ]
  },
  {
   "cell_type": "code",
   "execution_count": 7,
   "id": "3932306c",
   "metadata": {},
   "outputs": [
    {
     "data": {
      "text/plain": [
       "array([[-26.,  -7.,   6.],\n",
       "       [-26.,  -6.,   6.],\n",
       "       [-26.,  -6.,   7.],\n",
       "       ...,\n",
       "       [ 28.,  14.,   5.],\n",
       "       [ 28.,  14.,   6.],\n",
       "       [ 28.,  15.,   5.]])"
      ]
     },
     "execution_count": 7,
     "metadata": {},
     "output_type": "execute_result"
    }
   ],
   "source": [
    "pg[pv.flatten()]"
   ]
  },
  {
   "cell_type": "code",
   "execution_count": 8,
   "id": "99672ccf",
   "metadata": {},
   "outputs": [
    {
     "data": {
      "text/plain": [
       "array(['P', 'O', 'O', 'O', 'P', 'O', 'O', 'O', 'P', 'O', 'O', 'O', 'O',\n",
       "       'C', 'C', 'O', 'C', 'O', 'C', 'O', 'C', 'N', 'C', 'N', 'C', 'C',\n",
       "       'N', 'N', 'C', 'N', 'C'], dtype='<U1')"
      ]
     },
     "execution_count": 8,
     "metadata": {},
     "output_type": "execute_result"
    }
   ],
   "source": [
    "lig.elements"
   ]
  },
  {
   "cell_type": "code",
   "execution_count": 9,
   "id": "1fdc6844",
   "metadata": {},
   "outputs": [],
   "source": [
    "def write_grid_search_xyz(lig, gp, fname='grid_ligand.xyz'):\n",
    "    lig_coord_init = lig.get_coordinates(0)\n",
    "    lig_coord_origin = lig_coord_init - np.mean(lig_coord_init, axis=0) #- np.mean(lig_coord_init, axis=0)\n",
    "    with open(fname, 'w') as f:\n",
    "        for idx, gp_xyz in enumerate(gp):\n",
    "            lig_coord_this_grid = lig_coord_origin + gp_xyz\n",
    "            f.write(f'{lig.num_atoms+1}\\n')\n",
    "            f.write(f'Grid pt {idx}: {gp_xyz[0]:.2f} {gp_xyz[1]:.2f} {gp_xyz[2]:.2f}\\n')\n",
    "            for ele, xyz in zip(lig.elements, lig_coord_this_grid):\n",
    "                f.write(f'{ele} {xyz[0]} {xyz[1]} {xyz[2]}\\n')\n",
    "            f.write(f'X {gp_xyz[0]} {gp_xyz[1]} {gp_xyz[2]}\\n')\n",
    "        f.write('\\n\\n')"
   ]
  },
  {
   "cell_type": "code",
   "execution_count": 10,
   "id": "61417a89",
   "metadata": {},
   "outputs": [],
   "source": [
    "write_grid_search_xyz(lig, pg[pv.flatten()], fname='grid_ligand3.xyz')"
   ]
  },
  {
   "cell_type": "code",
   "execution_count": 11,
   "id": "f277a092",
   "metadata": {},
   "outputs": [],
   "source": [
    "write_grid_search_xyz(lig, [lig.get_coordinates(0).mean(0)], fname='ligand_COM.xyz')"
   ]
  },
  {
   "cell_type": "code",
   "execution_count": 12,
   "id": "296d298e",
   "metadata": {},
   "outputs": [
    {
     "data": {
      "text/plain": [
       "array([ 7.56209677, -9.4603871 , -2.96754839])"
      ]
     },
     "execution_count": 12,
     "metadata": {},
     "output_type": "execute_result"
    }
   ],
   "source": [
    "lig.get_coordinates(0).mean(0)"
   ]
  },
  {
   "cell_type": "code",
   "execution_count": 13,
   "id": "0eccd009",
   "metadata": {},
   "outputs": [
    {
     "data": {
      "text/plain": [
       "array([ 7.108 , -9.8465, -3.143 ])"
      ]
     },
     "execution_count": 13,
     "metadata": {},
     "output_type": "execute_result"
    }
   ],
   "source": [
    "np.stack(min_max(lig.get_coordinates(0))).mean(0)"
   ]
  },
  {
   "cell_type": "code",
   "execution_count": 16,
   "id": "01828e3d",
   "metadata": {},
   "outputs": [
    {
     "name": "stdout",
     "output_type": "stream",
     "text": [
      "This PDB does not seem to have hydrogens modeled\n"
     ]
    }
   ],
   "source": [
    "pocket = PDB('test_fpocket/1FIN_apo_out/1FIN_apo_out.pdb')"
   ]
  },
  {
   "cell_type": "code",
   "execution_count": 33,
   "id": "c8157e69",
   "metadata": {},
   "outputs": [],
   "source": [
    "pocket_coord = pocket.pdb.coords[pocket.elements == 'Ve']"
   ]
  },
  {
   "cell_type": "code",
   "execution_count": 34,
   "id": "f3c20c8d",
   "metadata": {},
   "outputs": [
    {
     "data": {
      "text/plain": [
       "array([[13.756, -8.239, -7.681],\n",
       "       [13.826, -8.157, -7.646],\n",
       "       [13.726, -8.139, -7.627],\n",
       "       ...,\n",
       "       [17.881,  8.429, -5.555],\n",
       "       [17.822,  8.284, -5.585],\n",
       "       [17.664,  8.338, -4.666]])"
      ]
     },
     "execution_count": 34,
     "metadata": {},
     "output_type": "execute_result"
    }
   ],
   "source": [
    "pocket_coord"
   ]
  },
  {
   "cell_type": "code",
   "execution_count": 35,
   "id": "2b60612a",
   "metadata": {},
   "outputs": [
    {
     "data": {
      "text/plain": [
       "(253825, 3)"
      ]
     },
     "execution_count": 35,
     "metadata": {},
     "output_type": "execute_result"
    }
   ],
   "source": [
    "pg.shape"
   ]
  },
  {
   "cell_type": "code",
   "execution_count": 54,
   "id": "dec08094",
   "metadata": {},
   "outputs": [],
   "source": [
    "pv2 = distance_matrix(pg[pv.flatten()], pocket_coord).min(1) < 2"
   ]
  },
  {
   "cell_type": "code",
   "execution_count": 48,
   "id": "dcf19e2c",
   "metadata": {},
   "outputs": [],
   "source": [
    "write_grid_points(pg[pv.flatten()], pv2, fname='grid3.pdb')"
   ]
  },
  {
   "cell_type": "code",
   "execution_count": 47,
   "id": "7e39ee0c",
   "metadata": {},
   "outputs": [
    {
     "data": {
      "text/plain": [
       "(99, 3)"
      ]
     },
     "execution_count": 47,
     "metadata": {},
     "output_type": "execute_result"
    }
   ],
   "source": [
    "pg[pv.flatten()][pv2].shape"
   ]
  },
  {
   "cell_type": "code",
   "execution_count": null,
   "id": "773ebd81",
   "metadata": {},
   "outputs": [],
   "source": []
  }
 ],
 "metadata": {
  "kernelspec": {
   "display_name": "Python 3 (ipykernel)",
   "language": "python",
   "name": "python3"
  },
  "language_info": {
   "codemirror_mode": {
    "name": "ipython",
    "version": 3
   },
   "file_extension": ".py",
   "mimetype": "text/x-python",
   "name": "python",
   "nbconvert_exporter": "python",
   "pygments_lexer": "ipython3",
   "version": "3.7.10"
  }
 },
 "nbformat": 4,
 "nbformat_minor": 5
}
