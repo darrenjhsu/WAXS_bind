{
 "cells": [
  {
   "cell_type": "code",
   "execution_count": 1,
   "id": "14854d4b",
   "metadata": {},
   "outputs": [],
   "source": [
    "from pdbfixer import PDBFixer\n",
    "from openmm.app import PDBFile"
   ]
  },
  {
   "cell_type": "code",
   "execution_count": 2,
   "id": "5994c728",
   "metadata": {},
   "outputs": [],
   "source": [
    "fixer = PDBFixer(filename='1FIN_apo.pdb')"
   ]
  },
  {
   "cell_type": "code",
   "execution_count": 3,
   "id": "a091d72a",
   "metadata": {},
   "outputs": [
    {
     "data": {
      "text/plain": [
       "<pdbfixer.pdbfixer.PDBFixer at 0x7f8768c844d0>"
      ]
     },
     "execution_count": 3,
     "metadata": {},
     "output_type": "execute_result"
    }
   ],
   "source": [
    "fixer"
   ]
  },
  {
   "cell_type": "code",
   "execution_count": 4,
   "id": "deb70d1e",
   "metadata": {},
   "outputs": [],
   "source": [
    "fixer.addMissingHydrogens(7.0)"
   ]
  },
  {
   "cell_type": "code",
   "execution_count": 5,
   "id": "aec2af31",
   "metadata": {},
   "outputs": [],
   "source": [
    "PDBFile.writeFile(fixer.topology, fixer.positions, open('1FIN_apo_H.pdb', 'w'))"
   ]
  }
 ],
 "metadata": {
  "kernelspec": {
   "display_name": "Python 3 (ipykernel)",
   "language": "python",
   "name": "python3"
  },
  "language_info": {
   "codemirror_mode": {
    "name": "ipython",
    "version": 3
   },
   "file_extension": ".py",
   "mimetype": "text/x-python",
   "name": "python",
   "nbconvert_exporter": "python",
   "pygments_lexer": "ipython3",
   "version": "3.7.10"
  }
 },
 "nbformat": 4,
 "nbformat_minor": 5
}
