{
 "cells": [
  {
   "cell_type": "code",
   "execution_count": 1,
   "id": "1d999010",
   "metadata": {},
   "outputs": [],
   "source": [
    "import sys\n",
    "import importlib\n",
    "import numpy as np\n",
    "from saxstats import saxstats\n",
    "from Ligand import Ligand\n",
    "from Geometry import *\n",
    "import rdkit\n",
    "from rdkit import Chem\n",
    "from rdkit.Chem import AllChem\n",
    "import time\n",
    "from array import array\n",
    "from scipy.optimize import minimize\n",
    "from spyrmsd import rmsd as srmsd"
   ]
  },
  {
   "cell_type": "code",
   "execution_count": 3,
   "id": "d0dc9ba2",
   "metadata": {},
   "outputs": [
    {
     "name": "stdout",
     "output_type": "stream",
     "text": [
      "This ligand does not seem to have hydrogens modeled into them\n",
      "Consider doing so for best X-ray scattering signal accuracy\n",
      "Atom 14 is qualified to have an improper term\n",
      "Atom 16 is qualified to have an improper term\n",
      "Atom 18 is qualified to have an improper term\n",
      "Atom 20 is qualified to have an improper term\n",
      "Processing candidate [14 13 15 16]\n",
      "3\n",
      "Graph is split to 3 subgraphs\n",
      "Processing candidate [16 14 17 18]\n",
      "3\n",
      "Graph is split to 3 subgraphs\n",
      "Processing candidate [18 16 19 20]\n",
      "3\n",
      "Graph is split to 3 subgraphs\n",
      "Processing candidate [20 15 18 21]\n",
      "3\n",
      "Graph is split to 3 subgraphs\n",
      "[[array([14, 13, 15, 16]), array([ 0,  1,  2,  3,  4,  5,  6,  7,  8,  9, 10, 11, 12, 13])], [array([20, 21, 15, 18]), array([21, 22, 23, 24, 25, 26, 27, 28, 29, 30])]]\n"
     ]
    },
    {
     "name": "stderr",
     "output_type": "stream",
     "text": [
      "[12:10:38] Molecule does not have explicit Hs. Consider calling AddHs()\n"
     ]
    }
   ],
   "source": [
    "lig_gt = Ligand('1FIN_ligand.sdf')"
   ]
  },
  {
   "cell_type": "code",
   "execution_count": 4,
   "id": "45049049",
   "metadata": {},
   "outputs": [],
   "source": [
    "sp = {'i': np.array([0, 30])}"
   ]
  },
  {
   "cell_type": "code",
   "execution_count": 5,
   "id": "0b8d898f",
   "metadata": {
    "scrolled": true
   },
   "outputs": [
    {
     "name": "stdout",
     "output_type": "stream",
     "text": [
      "[[-11.061  204.333  118.224 ]\n",
      " [-10.692  205.181  116.99  ]\n",
      " [-11.1125 205.65   116.282 ]]\n",
      "[[-11.399 205.978 113.562]\n",
      " [-10.603 205.789 114.77 ]\n",
      " [-10.873 205.892 115.595]]\n"
     ]
    }
   ],
   "source": [
    "lig_gt.set_coordinates(lig_gt.transform(0, sp))\n",
    "lig_gt.save('test_improper.pdb')"
   ]
  },
  {
   "cell_type": "code",
   "execution_count": 7,
   "id": "c809d837",
   "metadata": {},
   "outputs": [],
   "source": [
    "sp = {'a': np.zeros(lig_gt.num_angle), 't': np.mean(lig_gt.get_coordinates(), 0)}\n",
    "sp['a'][0] = 30"
   ]
  },
  {
   "cell_type": "code",
   "execution_count": 5,
   "id": "4d6237cb",
   "metadata": {},
   "outputs": [
    {
     "data": {
      "text/plain": [
       "[[array([0, 7, 4]), array([0, 1, 2, 3])],\n",
       " [array([ 4, 11,  8]), array([0, 1, 2, 3, 4, 5, 6, 7])],\n",
       " [array([ 7,  4, 11]), array([0, 1, 2, 3, 7])],\n",
       " [array([ 8, 12, 13]),\n",
       "  array([ 0,  1,  2,  3,  4,  5,  6,  7,  8,  9, 10, 11])],\n",
       " [array([11,  8, 12]), array([ 0,  1,  2,  3,  4,  5,  6,  7, 11])],\n",
       " [array([12, 13, 14]),\n",
       "  array([ 0,  1,  2,  3,  4,  5,  6,  7,  8,  9, 10, 11, 12])]]"
      ]
     },
     "execution_count": 5,
     "metadata": {},
     "output_type": "execute_result"
    }
   ],
   "source": [
    "lig_gt.agroup"
   ]
  },
  {
   "cell_type": "code",
   "execution_count": 8,
   "id": "a8955bd1",
   "metadata": {},
   "outputs": [],
   "source": [
    "lig_gt.set_coordinates(lig_gt.transform(0, sp))"
   ]
  },
  {
   "cell_type": "code",
   "execution_count": 7,
   "id": "a3240a16",
   "metadata": {},
   "outputs": [],
   "source": [
    "lig_gt.save('test_angle.pdb')"
   ]
  },
  {
   "cell_type": "code",
   "execution_count": null,
   "id": "b31f403f",
   "metadata": {},
   "outputs": [],
   "source": []
  },
  {
   "cell_type": "code",
   "execution_count": 2,
   "id": "42636ad5",
   "metadata": {
    "scrolled": true
   },
   "outputs": [
    {
     "name": "stdout",
     "output_type": "stream",
     "text": [
      "This ligand does not seem to have hydrogens modeled into them\n",
      "Consider doing so for best X-ray scattering signal accuracy\n",
      "[[array([14, 13, 15, 16]), array([ 0,  1,  2,  3,  4,  5,  6,  7,  8,  9, 10, 11, 12, 13])], [array([16, 17, 14, 18]), array([17])], [array([18, 19, 16, 20]), array([19])], [array([20, 21, 15, 18]), array([21, 22, 23, 24, 25, 26, 27, 28, 29, 30])]]\n"
     ]
    },
    {
     "name": "stderr",
     "output_type": "stream",
     "text": [
      "[12:47:16] Molecule does not have explicit Hs. Consider calling AddHs()\n"
     ]
    }
   ],
   "source": [
    "lig_gt = Ligand('1FIN_ligand.sdf')"
   ]
  },
  {
   "cell_type": "code",
   "execution_count": 3,
   "id": "7249aa0c",
   "metadata": {},
   "outputs": [],
   "source": [
    "def x_to_dict(x, lig):\n",
    "    return {'t': x[:3], 'r': x[3:6]*18, 'a': x[6:6+lig.num_angle], \n",
    "            'i': x[6+lig.num_angle:6+lig.num_angle+lig.num_improper],\n",
    "            'd': x[6+lig.num_angle+lig.num_improper:]*18}\n",
    "def myminfunc(x, lig, lig_coord_gt):\n",
    "    x_dict = x_to_dict(x, lig)\n",
    "    return pureRMSD(lig.transform(0, x_dict), lig_coord_gt)\n",
    "def mysymmminfunc(x, lig, lig_coord_gt, isomorphism=None, return_isomorphism=False):\n",
    "    x_dict = x_to_dict(x, lig)\n",
    "    if return_isomorphism:\n",
    "        return symmRMSD(lig.transform(0, x_dict), lig_coord_gt, lig.A, lig.G, isomorphism)\n",
    "    else:\n",
    "        return symmRMSD(lig.transform(0, x_dict), lig_coord_gt, lig.A, lig.G, isomorphism)[0]"
   ]
  },
  {
   "cell_type": "code",
   "execution_count": 4,
   "id": "adebad70",
   "metadata": {},
   "outputs": [],
   "source": [
    "sp_np = {'t': np.random.random(3) * 180,\n",
    "         'r': np.random.random(3) * 180,\n",
    "         'a': np.random.random(lig_gt.num_angle) * 10,\n",
    "         'd': np.random.random(lig_gt.num_torsion) * 180}"
   ]
  },
  {
   "cell_type": "code",
   "execution_count": 4,
   "id": "e5ac37bf",
   "metadata": {},
   "outputs": [],
   "source": [
    "# lig_gt.set_coordinates(lig_gt.transform(0, sp))\n",
    "lig_coord_gt = lig_gt.get_coordinates()"
   ]
  },
  {
   "cell_type": "code",
   "execution_count": 5,
   "id": "070ba8e8",
   "metadata": {
    "scrolled": true
   },
   "outputs": [
    {
     "name": "stdout",
     "output_type": "stream",
     "text": [
      "This ligand does not seem to have hydrogens modeled into them\n",
      "Consider doing so for best X-ray scattering signal accuracy\n",
      "[[array([14, 13, 15, 16]), array([ 0,  1,  2,  3,  4,  5,  6,  7,  8,  9, 10, 11, 12, 13])], [array([16, 17, 14, 18]), array([17])], [array([18, 19, 16, 20]), array([19])], [array([20, 21, 15, 18]), array([21, 22, 23, 24, 25, 26, 27, 28, 29, 30])]]\n",
      "Generated 1 conformers\n"
     ]
    },
    {
     "name": "stderr",
     "output_type": "stream",
     "text": [
      "[12:47:30] Molecule does not have explicit Hs. Consider calling AddHs()\n",
      "[12:47:30] Molecule does not have explicit Hs. Consider calling AddHs()\n",
      "[12:47:30] Molecule does not have explicit Hs. Consider calling AddHs()\n"
     ]
    },
    {
     "data": {
      "text/plain": [
       "1"
      ]
     },
     "execution_count": 5,
     "metadata": {},
     "output_type": "execute_result"
    }
   ],
   "source": [
    "lig = Ligand('1FIN_ligand.sdf')\n",
    "lig.generate_conformers(1)\n",
    "AllChem.MMFFOptimizeMolecule(lig.molecule)\n",
    "# lig.get_coordinates()\n",
    "# lig.set_coordinates(lig.transform(0, sp_np))"
   ]
  },
  {
   "cell_type": "code",
   "execution_count": 6,
   "id": "14b7f750",
   "metadata": {
    "scrolled": true
   },
   "outputs": [
    {
     "name": "stdout",
     "output_type": "stream",
     "text": [
      "RUNNING THE L-BFGS-B CODE\n",
      "\n",
      "           * * *\n",
      "\n",
      "Machine precision = 2.220D-16\n",
      " N =           22     M =           10\n",
      "\n",
      "At X0         0 variables are exactly at the bounds\n",
      "\n",
      "At iterate    0    f=  2.36637D+02    |proj g|=  8.68440D-01\n"
     ]
    },
    {
     "name": "stderr",
     "output_type": "stream",
     "text": [
      " This problem is unconstrained.\n"
     ]
    },
    {
     "name": "stdout",
     "output_type": "stream",
     "text": [
      "\n",
      "At iterate   50    f=  6.19620D-01    |proj g|=  4.30038D-02\n",
      "\n",
      "At iterate  100    f=  4.61594D-01    |proj g|=  8.21603D-03\n",
      "\n",
      "At iterate  150    f=  3.85626D-01    |proj g|=  2.11790D-02\n",
      "\n",
      "At iterate  200    f=  3.73949D-01    |proj g|=  4.87402D-02\n",
      "\n",
      "At iterate  250    f=  3.65450D-01    |proj g|=  1.92658D-03\n",
      "\n",
      "At iterate  300    f=  3.63626D-01    |proj g|=  1.85860D-03\n",
      "\n",
      "At iterate  350    f=  3.63111D-01    |proj g|=  4.83404D-03\n",
      "\n",
      "At iterate  400    f=  3.60775D-01    |proj g|=  1.07851D-02\n",
      "\n",
      "At iterate  450    f=  3.60041D-01    |proj g|=  8.54149D-03\n",
      "\n",
      "At iterate  500    f=  3.59341D-01    |proj g|=  1.19650D-03\n",
      "\n",
      "At iterate  550    f=  3.57832D-01    |proj g|=  1.93748D-03\n",
      "\n",
      "At iterate  600    f=  3.57557D-01    |proj g|=  3.18465D-03\n",
      "\n",
      "At iterate  650    f=  3.57239D-01    |proj g|=  6.83076D-04\n",
      "\n",
      "At iterate  700    f=  3.57069D-01    |proj g|=  1.21470D-03\n",
      "\n",
      "At iterate  750    f=  3.56843D-01    |proj g|=  2.94755D-03\n",
      "\n",
      "At iterate  800    f=  3.56814D-01    |proj g|=  2.13317D-03\n",
      "\n",
      "At iterate  850    f=  3.56767D-01    |proj g|=  1.93262D-04\n",
      "\n",
      "At iterate  900    f=  3.56718D-01    |proj g|=  1.10584D-03\n",
      "\n",
      "At iterate  950    f=  3.56690D-01    |proj g|=  4.76302D-04\n",
      "\n",
      "At iterate 1000    f=  3.56647D-01    |proj g|=  2.85910D-04\n",
      "\n",
      "At iterate 1050    f=  3.56607D-01    |proj g|=  6.96787D-04\n",
      "\n",
      "At iterate 1100    f=  3.56487D-01    |proj g|=  4.41269D-04\n",
      "\n",
      "At iterate 1150    f=  3.56459D-01    |proj g|=  8.05156D-04\n",
      "      fun: 0.35645809694687736\n",
      " hess_inv: <22x22 LbfgsInvHessProduct with dtype=float64>\n",
      "      jac: array([ 9.63673506e-05,  3.60267086e-06,  6.57196932e-05,  7.08044738e-05,\n",
      "        1.79578575e-05, -7.77711233e-06,  8.06021849e-06,  1.62758682e-05,\n",
      "        2.12330136e-05,  7.77711164e-06, -1.78745892e-06,  1.72417621e-05,\n",
      "        5.16475708e-05,  3.22575273e-05, -2.21433984e-05, -7.17759190e-06,\n",
      "        9.14546222e-05, -5.28299629e-05,  4.31654715e-05, -1.32782675e-05,\n",
      "       -6.27831068e-06,  3.47999378e-05])\n",
      "  message: 'CONVERGENCE: NORM_OF_PROJECTED_GRADIENT_<=_PGTOL'\n",
      "     nfev: 28957\n",
      "      nit: 1157\n",
      "     njev: 1259\n",
      "   status: 0\n",
      "  success: True\n",
      "        x: array([-12.54986888, 205.50561418, 116.40347503,   4.99121497,\n",
      "        -3.32638398,   2.97018785,  43.76270694,  18.58750576,\n",
      "       -17.16223181,  17.43975199,  11.38176195,  40.72213361,\n",
      "        27.44786679, -18.4300996 ,   4.79337872,   1.57887041,\n",
      "        -7.73736514,  -3.02968968,  -5.211256  ,  -1.41951561,\n",
      "        -9.48946113, -13.45392716])\n",
      "           * * *\n",
      "\n",
      "Tit   = total number of iterations\n",
      "Tnf   = total number of function evaluations\n",
      "Tnint = total number of segments explored during Cauchy searches\n",
      "Skip  = number of BFGS updates skipped\n",
      "Nact  = number of active bounds at final generalized Cauchy point\n",
      "Projg = norm of the final projected gradient\n",
      "F     = final function value\n",
      "\n",
      "\n",
      "t [-12.54986888 205.50561418 116.40347503]\n",
      "r [ 89.8418695  -59.87491165  53.46338137]\n",
      "a [ 43.76270694  18.58750576 -17.16223181  17.43975199  11.38176195\n",
      "  40.72213361]\n",
      "i [ 27.44786679 -18.4300996 ]\n",
      "d [  86.28081703   28.41966736 -139.27257261  -54.53441426  -93.80260796\n",
      "  -25.55128099 -170.81030033 -242.17068882]\n",
      "           * * *\n",
      "\n",
      "   N    Tit     Tnf  Tnint  Skip  Nact     Projg        F\n",
      "   22   1157   1259      1     0     0   9.637D-05   3.565D-01\n",
      "  F =  0.35645809694687736     \n",
      "\n",
      "CONVERGENCE: NORM_OF_PROJECTED_GRADIENT_<=_PGTOL            \n"
     ]
    }
   ],
   "source": [
    "res = minimize(myminfunc, np.zeros(6+lig.num_angle+lig.num_torsion+lig.num_improper), \n",
    "               args=(lig, lig_coord_gt), \n",
    "               method='L-BFGS-B', \n",
    "               options={'iprint':50, 'maxfun': 100000, 'gtol': 1e-4})\n",
    "               #bounds=[(None, None), (None, None), (None, None), (0, 180), (0, 360), \n",
    "                       #*([(None, None)] * lig.num_torsion)], options={'iprint': 10})\n",
    "\n",
    "print(res)\n",
    "xdict = x_to_dict(res.x, lig)\n",
    "for x in xdict.keys():\n",
    "    print(x, xdict[x])"
   ]
  },
  {
   "cell_type": "code",
   "execution_count": 6,
   "id": "da6a9de0",
   "metadata": {},
   "outputs": [],
   "source": [
    "iso=None"
   ]
  },
  {
   "cell_type": "code",
   "execution_count": 7,
   "id": "67f4022c",
   "metadata": {},
   "outputs": [
    {
     "name": "stdout",
     "output_type": "stream",
     "text": [
      "236.62853791438704\n"
     ]
    }
   ],
   "source": [
    "rmsd, iso = mysymmminfunc(np.zeros(6+lig.num_angle+lig.num_torsion+lig.num_improper),\n",
    "                          lig, lig_coord_gt, isomorphism=None, return_isomorphism=True)\n",
    "print(rmsd)"
   ]
  },
  {
   "cell_type": "code",
   "execution_count": 27,
   "id": "2c108f34",
   "metadata": {
    "scrolled": true
   },
   "outputs": [
    {
     "name": "stdout",
     "output_type": "stream",
     "text": [
      "RUNNING THE L-BFGS-B CODE\n",
      "\n",
      "           * * *\n",
      "\n",
      "Machine precision = 2.220D-16\n",
      " N =           20     M =           10\n",
      "\n",
      "At X0         0 variables are exactly at the bounds\n",
      "\n",
      "At iterate    0    f=  2.36637D+02    |proj g|=  8.68440D-01\n",
      "  ys=-3.101E-06  -gs= 9.997E-01 BFGS update SKIPPED\n",
      "  ys=-1.428E-03  -gs= 2.199E+01 BFGS update SKIPPED\n",
      "  ys=-2.945E-04  -gs= 8.973E+00 BFGS update SKIPPED\n",
      "  ys=-1.188E-03  -gs= 1.889E+01 BFGS update SKIPPED\n",
      "  ys=-1.104E-03  -gs= 2.979E+01 BFGS update SKIPPED\n",
      "\n",
      "At iterate   50    f=  8.99814D-01    |proj g|=  5.10193D-02\n",
      "\n",
      "At iterate  100    f=  8.04711D-01    |proj g|=  2.68618D-04\n",
      "      fun: 0.8047109812315043\n",
      " hess_inv: <20x20 LbfgsInvHessProduct with dtype=float64>\n",
      "      jac: array([ 8.92619238e-06, -1.99173853e-05,  1.19238028e-05,  5.45563598e-05,\n",
      "        2.00950369e-05, -9.02611325e-06, -2.39486209e-04, -3.07958103e-03,\n",
      "        6.85829171e-04,  1.54080082e-03,  8.65818528e-04, -1.08908438e-03,\n",
      "        4.49640288e-06, -1.01141318e-05,  1.95177209e-05, -2.09277040e-05,\n",
      "        7.04991562e-06, -2.24598117e-05, -1.36668455e-05, -2.14273045e-06])\n",
      "  message: 'CONVERGENCE: NORM_OF_PROJECTED_GRADIENT_<=_PGTOL'\n",
      "     nfev: 3003\n",
      "      nit: 103\n",
      "     njev: 143\n",
      "   status: 0\n",
      "  success: True\n",
      "        x: array([-1.25498960e+01,  2.05505597e+02,  1.16403461e+02, -4.67510430e+00,\n",
      "       -2.22043170e+00, -6.15294792e+00,  1.00000000e-02,  1.00000000e-02,\n",
      "       -1.00000000e-02, -1.00000000e-02, -1.00000000e-02,  1.00000000e-02,\n",
      "       -8.58867445e+00, -3.39524959e+00, -3.98670588e+00, -4.17971822e-01,\n",
      "        8.68449417e+00, -5.58272648e-01,  6.76625588e+00, -1.22829654e+00])\n",
      "           * * *\n",
      "\n",
      "Tit   = total number of iterations\n",
      "Tnf   = total number of function evaluations\n",
      "Tnint = total number of segments explored during Cauchy searches\n",
      "Skip  = number of BFGS updates skipped\n",
      "Nact  = number of active bounds at final generalized Cauchy point\n",
      "Projg = norm of the final projected gradient\n",
      "F     = final function value\n",
      "\n",
      "           * * *\n",
      "\n",
      "   N    Tit     Tnf  Tnint  Skip  Nact     Projg        F\n",
      "\n",
      "t [-12.54989604 205.50559688 116.4034612 ]\n",
      "r [ -84.15187742  -39.96777052 -110.75306252]\n",
      "a [ 0.01  0.01 -0.01 -0.01 -0.01  0.01]\n",
      "d [-154.59614018  -61.11449256  -71.76070581   -7.52349279  156.320895\n",
      "  -10.04890767  121.79260593  -22.10933768]\n",
      "   20    103    143    126     5     6   5.456D-05   8.047D-01\n",
      "  F =  0.80471098123150431     \n",
      "\n",
      "CONVERGENCE: NORM_OF_PROJECTED_GRADIENT_<=_PGTOL            \n"
     ]
    }
   ],
   "source": [
    "# # Run with bounds on angles\n",
    "# res = minimize(mysymmminfunc, np.zeros(6+lig.num_angle+lig.num_torsion), \n",
    "#                args=(lig, lig_coord_gt, iso), method='L-BFGS-B', \n",
    "#                options={'iprint':50, 'maxfun': 100000, 'gtol': 1e-4},\n",
    "#                bounds=[(None, None)] * 6 + [(-0.01, 0.01)] * lig.num_angle + [(None, None)] * lig.num_torsion)\n",
    "# #                bounds=[(None, None), (None, None), (None, None), (0, 180), (0, 360), \n",
    "#                        #*([(None, None)] * lig.num_torsion)], options={'iprint': 10})\n",
    "\n",
    "# print(res)\n",
    "# xdict = x_to_dict(res.x, lig)\n",
    "# for x in xdict.keys():\n",
    "#     print(x, xdict[x])"
   ]
  },
  {
   "cell_type": "code",
   "execution_count": 8,
   "id": "02192c5e",
   "metadata": {
    "scrolled": true
   },
   "outputs": [
    {
     "name": "stdout",
     "output_type": "stream",
     "text": [
      "RUNNING THE L-BFGS-B CODE\n",
      "\n",
      "           * * *\n",
      "\n",
      "Machine precision = 2.220D-16\n",
      " N =           24     M =           10\n",
      "\n",
      "At X0         3 variables are exactly at the bounds\n",
      "\n",
      "At iterate    0    f=  1.13245D+01    |proj g|=  4.41521D-01\n",
      "  ys=-3.225E-02  -gs= 9.355E-01 BFGS update SKIPPED\n",
      "\n",
      "At iterate   50    f=  7.11242D-01    |proj g|=  3.23140D-02\n",
      "\n",
      "At iterate  100    f=  5.89880D-01    |proj g|=  1.10806D-02\n",
      "\n",
      "At iterate  150    f=  5.22579D-01    |proj g|=  1.21846D-02\n",
      "\n",
      "At iterate  200    f=  4.97719D-01    |proj g|=  3.43390D-03\n",
      "\n",
      "At iterate  250    f=  4.96106D-01    |proj g|=  2.98743D-02\n",
      "\n",
      "At iterate  300    f=  4.91692D-01    |proj g|=  1.56350D-03\n",
      "\n",
      "At iterate  350    f=  4.90554D-01    |proj g|=  6.96013D-03\n",
      "\n",
      "At iterate  400    f=  4.90317D-01    |proj g|=  7.50761D-04\n",
      "\n",
      "At iterate  450    f=  4.90195D-01    |proj g|=  6.77225D-04\n",
      "\n",
      "At iterate  500    f=  4.90159D-01    |proj g|=  4.06924D-04\n",
      "\n",
      "At iterate  550    f=  4.90135D-01    |proj g|=  3.64975D-04\n",
      "\n",
      "At iterate  600    f=  4.90116D-01    |proj g|=  1.61415D-03\n",
      "\n",
      "At iterate  650    f=  4.90098D-01    |proj g|=  1.43802D-04\n",
      "\n",
      "At iterate  700    f=  4.90093D-01    |proj g|=  4.37650D-04\n",
      "\n",
      "At iterate  750    f=  4.90059D-01    |proj g|=  1.64063D-04\n",
      "\n",
      "At iterate  800    f=  4.90045D-01    |proj g|=  1.36241D-04\n",
      "\n",
      "At iterate  850    f=  4.90034D-01    |proj g|=  1.57419D-04\n",
      "      fun: 0.4900279118618528\n",
      " hess_inv: <24x24 LbfgsInvHessProduct with dtype=float64>\n",
      "      jac: array([-2.64566125e-05, -6.47537065e-05, -2.33702093e-06, -2.57460721e-05,\n",
      "        4.43478590e-05, -1.34164902e-04, -5.84648948e-04, -1.24400480e-05,\n",
      "        2.48134848e-06,  1.44003686e-03, -2.86937141e-05, -8.07021050e-04,\n",
      "       -1.12116973e-03, -1.88241074e-03,  1.06528111e-03,  1.54598555e-05,\n",
      "        3.31401575e-06, -7.06656897e-06, -1.65811810e-05,  1.12576605e-05,\n",
      "        2.31370459e-05,  3.89577262e-05,  4.63906694e-05, -3.15802913e-05])\n",
      "  message: 'CONVERGENCE: REL_REDUCTION_OF_F_<=_FACTR*EPSMCH'\n",
      "     nfev: 23750\n",
      "      nit: 879\n",
      "     njev: 950\n",
      "   status: 0\n",
      "  success: True\n",
      "        x: array([-1.25499162e+01,  2.05505581e+02,  1.16403450e+02,  4.94220985e+00,\n",
      "       -1.81552340e+00,  4.76153425e+00,  2.00000000e+01,  1.21640237e+01,\n",
      "       -4.98448112e+00, -2.00000000e+01, -8.30757015e-03,  2.00000000e+01,\n",
      "        2.00000000e+01,  2.00000000e+01, -2.00000000e+01,  8.78645536e-01,\n",
      "        4.56922426e+00,  1.53639964e+01, -7.03199966e+00, -8.65910933e+00,\n",
      "       -8.60269751e+00,  4.42756736e+00,  7.17699299e+00, -1.17576007e+01])\n",
      "           * * *\n",
      "\n",
      "Tit   = total number of iterations\n",
      "Tnf   = total number of function evaluations\n",
      "Tnint = total number of segments explored during Cauchy searches\n",
      "Skip  = number of BFGS updates skipped\n",
      "Nact  = number of active bounds at final generalized Cauchy point\n",
      "Projg = norm of the final projected gradient\n",
      "F     = final function value\n",
      "\n",
      "\n",
      "t [-12.5499162  205.50558117 116.40345046]\n",
      "r [ 88.95977727 -32.67942113  85.70761648]\n",
      "a [ 2.00000000e+01  1.21640237e+01 -4.98448112e+00 -2.00000000e+01\n",
      " -8.30757015e-03  2.00000000e+01]\n",
      "i [ 20.          20.         -20.           0.87864554]\n",
      "d [  82.24603661  276.55193503 -126.57599391 -155.86396793 -154.84855519\n",
      "   79.69621248  129.18587382 -211.63681255]\n",
      "           * * *\n",
      "\n",
      "   N    Tit     Tnf  Tnint  Skip  Nact     Projg        F\n",
      "   24    879    950    884     1     6   1.342D-04   4.900D-01\n",
      "  F =  0.49002791186185279     \n",
      "\n",
      "CONVERGENCE: REL_REDUCTION_OF_F_<=_FACTR*EPSMCH             \n"
     ]
    }
   ],
   "source": [
    "\n",
    "sp0 = np.concatenate([lig_gt.get_coordinates(0).mean(0), np.zeros(3 + lig.num_angle+lig.num_torsion+lig.num_improper)])\n",
    "spb = [(x-5, x+5) for x in sp0[:3]] + [(-20, 20)] * 3 + [(-20, 20)] * lig.num_angle + \\\n",
    "       [(-20, 20)] * lig.num_improper + [(-20, 20)] * lig.num_torsion\n",
    "res = minimize(mysymmminfunc, np.zeros(6+lig.num_angle+lig.num_torsion+lig.num_improper), \n",
    "               args=(lig, lig_coord_gt, iso), method='L-BFGS-B', \n",
    "               options={'iprint':50, 'maxfun': 100000},\n",
    "               bounds=spb\n",
    "              )\n",
    "               #bounds=[(None, None), (None, None), (None, None), (0, 180), (0, 360), \n",
    "                       #*([(None, None)] * lig.num_torsion)], options={'iprint': 10})\n",
    "\n",
    "print(res)\n",
    "xdict = x_to_dict(res.x, lig)\n",
    "for x in xdict.keys():\n",
    "    print(x, xdict[x])"
   ]
  },
  {
   "cell_type": "code",
   "execution_count": 9,
   "id": "93261164",
   "metadata": {},
   "outputs": [],
   "source": [
    "lig.set_coordinates(lig.transform(0, x_to_dict(res.x, lig)))\n",
    "lig.save('test_min_improper.pdb')"
   ]
  },
  {
   "cell_type": "code",
   "execution_count": 47,
   "id": "fb46b28f",
   "metadata": {},
   "outputs": [
    {
     "name": "stdout",
     "output_type": "stream",
     "text": [
      "Initial RMSD: 236.69560425048505\n",
      "Initial Kabsch RMSD: 2.401188689199162\n",
      "Final RMSD: 0.8038656097057654\n",
      "Final Kabsch RMSD: 0.8038529702847935\n",
      "Final symmetry aligned RMSD:  0.4555604277957224\n"
     ]
    }
   ],
   "source": [
    "# print(\"Ground truth\")\n",
    "# print(lig_coord_gt)\n",
    "\n",
    "# print(\"Minimized result\")\n",
    "# print(lig.transform(0, res.x))\n",
    "\n",
    "print(\"Initial RMSD:\", end=' ')\n",
    "print(pureRMSD(lig_coord_gt, lig.get_coordinates()))\n",
    "\n",
    "print(\"Initial Kabsch RMSD:\", end=' ')\n",
    "print(Kabsch_RMSD(lig_coord_gt, lig.get_coordinates())[0])\n",
    "\n",
    "print(\"Final RMSD:\", end=' ')\n",
    "print(pureRMSD(lig_coord_gt, lig.transform(0, x_to_dict(res.x, lig))))\n",
    "\n",
    "print(\"Final Kabsch RMSD:\", end=' ')\n",
    "print(Kabsch_RMSD(lig_coord_gt, lig.transform(0, x_to_dict(res.x, lig)))[0])\n",
    "\n",
    "print(\"Final symmetry aligned RMSD: \", end=' ')\n",
    "print(symmRMSD(lig.transform(0, x_to_dict(res.x, lig)), lig_coord_gt, lig.A, lig.G, iso)[0])"
   ]
  },
  {
   "cell_type": "code",
   "execution_count": 4,
   "id": "dd60825c",
   "metadata": {},
   "outputs": [],
   "source": [
    "mol = Chem.MolFromMolFile('1FIN_ligand.sdf')"
   ]
  },
  {
   "cell_type": "code",
   "execution_count": 5,
   "id": "3ddb3bdb",
   "metadata": {},
   "outputs": [
    {
     "data": {
      "text/plain": [
       "['ClearProp',\n",
       " 'DescribeQuery',\n",
       " 'GetAtomMapNum',\n",
       " 'GetAtomicNum',\n",
       " 'GetBonds',\n",
       " 'GetBoolProp',\n",
       " 'GetChiralTag',\n",
       " 'GetDegree',\n",
       " 'GetDoubleProp',\n",
       " 'GetExplicitBitVectProp',\n",
       " 'GetExplicitValence',\n",
       " 'GetFormalCharge',\n",
       " 'GetHybridization',\n",
       " 'GetIdx',\n",
       " 'GetImplicitValence',\n",
       " 'GetIntProp',\n",
       " 'GetIsAromatic',\n",
       " 'GetIsotope',\n",
       " 'GetMass',\n",
       " 'GetMonomerInfo',\n",
       " 'GetNeighbors',\n",
       " 'GetNoImplicit',\n",
       " 'GetNumExplicitHs',\n",
       " 'GetNumImplicitHs',\n",
       " 'GetNumRadicalElectrons',\n",
       " 'GetOwningMol',\n",
       " 'GetPDBResidueInfo',\n",
       " 'GetProp',\n",
       " 'GetPropNames',\n",
       " 'GetPropsAsDict',\n",
       " 'GetQueryType',\n",
       " 'GetSmarts',\n",
       " 'GetSymbol',\n",
       " 'GetTotalDegree',\n",
       " 'GetTotalNumHs',\n",
       " 'GetTotalValence',\n",
       " 'GetUnsignedProp',\n",
       " 'HasOwningMol',\n",
       " 'HasProp',\n",
       " 'HasQuery',\n",
       " 'InvertChirality',\n",
       " 'IsInRing',\n",
       " 'IsInRingSize',\n",
       " 'Match',\n",
       " 'NeedsUpdatePropertyCache',\n",
       " 'SetAtomMapNum',\n",
       " 'SetAtomicNum',\n",
       " 'SetBoolProp',\n",
       " 'SetChiralTag',\n",
       " 'SetDoubleProp',\n",
       " 'SetExplicitBitVectProp',\n",
       " 'SetFormalCharge',\n",
       " 'SetHybridization',\n",
       " 'SetIntProp',\n",
       " 'SetIsAromatic',\n",
       " 'SetIsotope',\n",
       " 'SetMonomerInfo',\n",
       " 'SetNoImplicit',\n",
       " 'SetNumExplicitHs',\n",
       " 'SetNumRadicalElectrons',\n",
       " 'SetPDBResidueInfo',\n",
       " 'SetProp',\n",
       " 'SetUnsignedProp',\n",
       " 'UpdatePropertyCache',\n",
       " '__class__',\n",
       " '__copy__',\n",
       " '__delattr__',\n",
       " '__dict__',\n",
       " '__dir__',\n",
       " '__doc__',\n",
       " '__eq__',\n",
       " '__format__',\n",
       " '__ge__',\n",
       " '__getattribute__',\n",
       " '__gt__',\n",
       " '__hash__',\n",
       " '__init__',\n",
       " '__init_subclass__',\n",
       " '__instance_size__',\n",
       " '__le__',\n",
       " '__lt__',\n",
       " '__module__',\n",
       " '__ne__',\n",
       " '__new__',\n",
       " '__reduce__',\n",
       " '__reduce_ex__',\n",
       " '__repr__',\n",
       " '__setattr__',\n",
       " '__sizeof__',\n",
       " '__str__',\n",
       " '__subclasshook__',\n",
       " '__weakref__']"
      ]
     },
     "execution_count": 5,
     "metadata": {},
     "output_type": "execute_result"
    }
   ],
   "source": [
    "dir(mol.GetAtomWithIdx(1))"
   ]
  },
  {
   "cell_type": "code",
   "execution_count": 6,
   "id": "34a6dae1",
   "metadata": {},
   "outputs": [
    {
     "data": {
      "text/plain": [
       "[(0, 'P', rdkit.Chem.rdchem.HybridizationType.SP3, 4, True),\n",
       " (1, 'O', rdkit.Chem.rdchem.HybridizationType.SP2, 1, False),\n",
       " (2, 'O', rdkit.Chem.rdchem.HybridizationType.SP3, 1, True),\n",
       " (3, 'O', rdkit.Chem.rdchem.HybridizationType.SP3, 1, True),\n",
       " (4, 'P', rdkit.Chem.rdchem.HybridizationType.SP3, 4, True),\n",
       " (5, 'O', rdkit.Chem.rdchem.HybridizationType.SP2, 1, False),\n",
       " (6, 'O', rdkit.Chem.rdchem.HybridizationType.SP3, 1, True),\n",
       " (7, 'O', rdkit.Chem.rdchem.HybridizationType.SP3, 2, True),\n",
       " (8, 'P', rdkit.Chem.rdchem.HybridizationType.SP3, 4, True),\n",
       " (9, 'O', rdkit.Chem.rdchem.HybridizationType.SP2, 1, False),\n",
       " (10, 'O', rdkit.Chem.rdchem.HybridizationType.SP3, 1, True),\n",
       " (11, 'O', rdkit.Chem.rdchem.HybridizationType.SP3, 2, True),\n",
       " (12, 'O', rdkit.Chem.rdchem.HybridizationType.SP3, 2, True),\n",
       " (13, 'C', rdkit.Chem.rdchem.HybridizationType.SP3, 2, True),\n",
       " (14, 'C', rdkit.Chem.rdchem.HybridizationType.SP3, 3, True),\n",
       " (15, 'O', rdkit.Chem.rdchem.HybridizationType.SP3, 2, True),\n",
       " (16, 'C', rdkit.Chem.rdchem.HybridizationType.SP3, 3, True),\n",
       " (17, 'O', rdkit.Chem.rdchem.HybridizationType.SP3, 1, True),\n",
       " (18, 'C', rdkit.Chem.rdchem.HybridizationType.SP3, 3, True),\n",
       " (19, 'O', rdkit.Chem.rdchem.HybridizationType.SP3, 1, True),\n",
       " (20, 'C', rdkit.Chem.rdchem.HybridizationType.SP3, 3, True),\n",
       " (21, 'N', rdkit.Chem.rdchem.HybridizationType.SP2, 3, False),\n",
       " (22, 'C', rdkit.Chem.rdchem.HybridizationType.SP2, 2, False),\n",
       " (23, 'N', rdkit.Chem.rdchem.HybridizationType.SP2, 2, False),\n",
       " (24, 'C', rdkit.Chem.rdchem.HybridizationType.SP2, 3, False),\n",
       " (25, 'C', rdkit.Chem.rdchem.HybridizationType.SP2, 3, False),\n",
       " (26, 'N', rdkit.Chem.rdchem.HybridizationType.SP2, 1, False),\n",
       " (27, 'N', rdkit.Chem.rdchem.HybridizationType.SP2, 2, False),\n",
       " (28, 'C', rdkit.Chem.rdchem.HybridizationType.SP2, 2, False),\n",
       " (29, 'N', rdkit.Chem.rdchem.HybridizationType.SP2, 2, False),\n",
       " (30, 'C', rdkit.Chem.rdchem.HybridizationType.SP2, 3, False)]"
      ]
     },
     "execution_count": 6,
     "metadata": {},
     "output_type": "execute_result"
    }
   ],
   "source": [
    "[(x, \n",
    "  mol.GetAtomWithIdx(x).GetSymbol(), \n",
    "  mol.GetAtomWithIdx(x).GetHybridization(), \n",
    "  mol.GetAtomWithIdx(x).GetDegree(), \n",
    "  mol.GetAtomWithIdx(x).GetHybridization() == rdkit.Chem.rdchem.HybridizationType.SP3 ) for x in range(mol.GetNumAtoms())]\n",
    "\n",
    "\n"
   ]
  },
  {
   "cell_type": "code",
   "execution_count": 7,
   "id": "38f9e758",
   "metadata": {},
   "outputs": [
    {
     "data": {
      "text/plain": [
       "3"
      ]
     },
     "execution_count": 7,
     "metadata": {},
     "output_type": "execute_result"
    }
   ],
   "source": [
    "mol.GetAtomWithIdx(14).GetDegree()"
   ]
  },
  {
   "cell_type": "code",
   "execution_count": 15,
   "id": "5fa496ed",
   "metadata": {},
   "outputs": [
    {
     "data": {
      "text/plain": [
       "16"
      ]
     },
     "execution_count": 15,
     "metadata": {},
     "output_type": "execute_result"
    }
   ],
   "source": [
    "mol.GetAtomWithIdx(14).GetBonds()[2].GetEndAtomIdx()"
   ]
  },
  {
   "cell_type": "code",
   "execution_count": null,
   "id": "75173c13",
   "metadata": {},
   "outputs": [],
   "source": []
  }
 ],
 "metadata": {
  "kernelspec": {
   "display_name": "Python 3 (ipykernel)",
   "language": "python",
   "name": "python3"
  },
  "language_info": {
   "codemirror_mode": {
    "name": "ipython",
    "version": 3
   },
   "file_extension": ".py",
   "mimetype": "text/x-python",
   "name": "python",
   "nbconvert_exporter": "python",
   "pygments_lexer": "ipython3",
   "version": "3.8.13"
  }
 },
 "nbformat": 4,
 "nbformat_minor": 5
}
