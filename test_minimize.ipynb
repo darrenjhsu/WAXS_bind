{
 "cells": [
  {
   "cell_type": "code",
   "execution_count": 1,
   "id": "6d7ec0a7",
   "metadata": {},
   "outputs": [],
   "source": [
    "import sys\n",
    "import importlib\n",
    "import numpy as np\n",
    "from saxstats import saxstats\n",
    "from Ligand import Ligand\n",
    "from Geometry import *\n",
    "import rdkit\n",
    "from rdkit import Chem\n",
    "import time\n",
    "from array import array\n",
    "from scipy.optimize import minimize\n",
    "from spyrmsd import rmsd as srmsd"
   ]
  },
  {
   "cell_type": "code",
   "execution_count": 4,
   "id": "75cd0049",
   "metadata": {},
   "outputs": [
    {
     "name": "stdout",
     "output_type": "stream",
     "text": [
      "This ligand does not seem to have hydrogens modeled into them\n",
      "Consider doing so for best X-ray scattering signal accuracy\n"
     ]
    },
    {
     "name": "stderr",
     "output_type": "stream",
     "text": [
      "[10:18:22] Molecule does not have explicit Hs. Consider calling AddHs()\n"
     ]
    }
   ],
   "source": [
    "lig_gt = Ligand('1FIN_ligand.sdf')"
   ]
  },
  {
   "cell_type": "code",
   "execution_count": 3,
   "id": "a2f4734b",
   "metadata": {},
   "outputs": [],
   "source": [
    "sp = {'a': np.zeros(lig_gt.num_angle), 't': np.mean(lig_gt.get_coordinates(), 0)}\n",
    "sp['a'][0] = 30"
   ]
  },
  {
   "cell_type": "code",
   "execution_count": 4,
   "id": "20b2520e",
   "metadata": {},
   "outputs": [
    {
     "data": {
      "text/plain": [
       "[[array([0, 7, 4]),\n",
       "  array([0, 1, 2, 3]),\n",
       "  array([ 4,  5,  6,  8,  9, 10, 11, 12, 13, 14, 15, 16, 17, 18, 19, 20, 21,\n",
       "         22, 23, 24, 25, 26, 27, 28, 29, 30])],\n",
       " [array([ 4, 11,  8]),\n",
       "  array([0, 1, 2, 3, 4, 5, 6, 7]),\n",
       "  array([ 8,  9, 10, 12, 13, 14, 15, 16, 17, 18, 19, 20, 21, 22, 23, 24, 25,\n",
       "         26, 27, 28, 29, 30])],\n",
       " [array([ 7,  4, 11]),\n",
       "  array([0, 1, 2, 3, 7]),\n",
       "  array([ 8,  9, 10, 11, 12, 13, 14, 15, 16, 17, 18, 19, 20, 21, 22, 23, 24,\n",
       "         25, 26, 27, 28, 29, 30])],\n",
       " [array([ 8, 12, 13]),\n",
       "  array([ 0,  1,  2,  3,  4,  5,  6,  7,  8,  9, 10, 11]),\n",
       "  array([13, 14, 15, 16, 17, 18, 19, 20, 21, 22, 23, 24, 25, 26, 27, 28, 29,\n",
       "         30])],\n",
       " [array([11,  8, 12]),\n",
       "  array([ 0,  1,  2,  3,  4,  5,  6,  7, 11]),\n",
       "  array([12, 13, 14, 15, 16, 17, 18, 19, 20, 21, 22, 23, 24, 25, 26, 27, 28,\n",
       "         29, 30])],\n",
       " [array([12, 13, 14]),\n",
       "  array([ 0,  1,  2,  3,  4,  5,  6,  7,  8,  9, 10, 11, 12]),\n",
       "  array([14, 15, 16, 17, 18, 19, 20, 21, 22, 23, 24, 25, 26, 27, 28, 29, 30])]]"
      ]
     },
     "execution_count": 4,
     "metadata": {},
     "output_type": "execute_result"
    }
   ],
   "source": [
    "lig_gt.agroup"
   ]
  },
  {
   "cell_type": "code",
   "execution_count": 5,
   "id": "04686fd5",
   "metadata": {},
   "outputs": [],
   "source": [
    "lig_gt.set_coordinates(lig_gt.transform(0, sp))"
   ]
  },
  {
   "cell_type": "code",
   "execution_count": 7,
   "id": "7f06305d",
   "metadata": {},
   "outputs": [],
   "source": [
    "lig_gt.save('test_angle.pdb')"
   ]
  },
  {
   "cell_type": "code",
   "execution_count": null,
   "id": "188225f6",
   "metadata": {},
   "outputs": [],
   "source": []
  },
  {
   "cell_type": "code",
   "execution_count": 2,
   "id": "a0610034",
   "metadata": {},
   "outputs": [
    {
     "name": "stdout",
     "output_type": "stream",
     "text": [
      "This ligand does not seem to have hydrogens modeled into them\n",
      "Consider doing so for best X-ray scattering signal accuracy\n"
     ]
    },
    {
     "name": "stderr",
     "output_type": "stream",
     "text": [
      "[10:19:21] Molecule does not have explicit Hs. Consider calling AddHs()\n"
     ]
    }
   ],
   "source": [
    "lig_gt = Ligand('1FIN_ligand.sdf')"
   ]
  },
  {
   "cell_type": "code",
   "execution_count": 3,
   "id": "8780fd22",
   "metadata": {},
   "outputs": [],
   "source": [
    "def x_to_dict(x, lig):\n",
    "    return {'t': x[:3], 'r': x[3:6], 'a': x[6:6+lig.num_angle], 'd': x[6+lig.num_angle:]}\n",
    "def myminfunc(x, lig, lig_coord_gt):\n",
    "    x_dict = x_to_dict(x, lig)\n",
    "    return pureRMSD(lig.transform(0, x_dict), lig_coord_gt)\n",
    "def mysymmminfunc(x, lig, lig_coord_gt, isomorphism=None, return_isomorphism=False):\n",
    "    x_dict = x_to_dict(x, lig)\n",
    "    if return_isomorphism:\n",
    "        return symmRMSD(lig.transform(0, x_dict), lig_coord_gt, lig.A, lig.G, isomorphism)\n",
    "    else:\n",
    "        return symmRMSD(lig.transform(0, x_dict), lig_coord_gt, lig.A, lig.G, isomorphism)[0]"
   ]
  },
  {
   "cell_type": "code",
   "execution_count": 4,
   "id": "243ba979",
   "metadata": {},
   "outputs": [],
   "source": [
    "sp_np = {'t': np.random.random(3) * 180,\n",
    "         'r': np.random.random(3) * 180,\n",
    "         'a': np.random.random(lig_gt.num_angle) * 10,\n",
    "         'd': np.random.random(lig_gt.num_torsion) * 180}"
   ]
  },
  {
   "cell_type": "code",
   "execution_count": 5,
   "id": "3d2b7e7f",
   "metadata": {},
   "outputs": [],
   "source": [
    "# lig_gt.set_coordinates(lig_gt.transform(0, sp))\n",
    "lig_coord_gt = lig_gt.get_coordinates()"
   ]
  },
  {
   "cell_type": "code",
   "execution_count": 6,
   "id": "63f4e37d",
   "metadata": {
    "scrolled": true
   },
   "outputs": [],
   "source": [
    "# res = minimize(myminfunc, np.zeros(6+lig.num_angle+lig.num_torsion), \n",
    "#                args=(lig, lig_coord_gt), \n",
    "#                method='L-BFGS-B', \n",
    "#                options={'iprint':10, 'maxfun': 100000, 'gtol': 3e-3})\n",
    "#                #bounds=[(None, None), (None, None), (None, None), (0, 180), (0, 360), \n",
    "#                        #*([(None, None)] * lig.num_torsion)], options={'iprint': 10})\n",
    "\n",
    "# print(res)"
   ]
  },
  {
   "cell_type": "code",
   "execution_count": 7,
   "id": "fdc2587a",
   "metadata": {},
   "outputs": [],
   "source": [
    "iso=None"
   ]
  },
  {
   "cell_type": "code",
   "execution_count": 8,
   "id": "9ed07d63",
   "metadata": {
    "scrolled": true
   },
   "outputs": [
    {
     "name": "stdout",
     "output_type": "stream",
     "text": [
      "This ligand does not seem to have hydrogens modeled into them\n",
      "Consider doing so for best X-ray scattering signal accuracy\n",
      "Generated 1 conformers\n"
     ]
    },
    {
     "name": "stderr",
     "output_type": "stream",
     "text": [
      "[10:19:25] Molecule does not have explicit Hs. Consider calling AddHs()\n",
      "[10:19:25] Molecule does not have explicit Hs. Consider calling AddHs()\n"
     ]
    }
   ],
   "source": [
    "lig = Ligand('1FIN_ligand.sdf')\n",
    "lig.generate_conformers(1)\n",
    "# lig.get_coordinates()\n",
    "# lig.set_coordinates(lig.transform(0, sp_np))"
   ]
  },
  {
   "cell_type": "code",
   "execution_count": 9,
   "id": "7d87c9c2",
   "metadata": {},
   "outputs": [
    {
     "name": "stdout",
     "output_type": "stream",
     "text": [
      "236.63701391513234\n"
     ]
    }
   ],
   "source": [
    "rmsd, iso = mysymmminfunc(np.zeros(6+lig.num_angle+lig.num_torsion),\n",
    "                          lig, lig_coord_gt, isomorphism=None, return_isomorphism=True)\n",
    "print(rmsd)"
   ]
  },
  {
   "cell_type": "code",
   "execution_count": 10,
   "id": "4e502f82",
   "metadata": {
    "scrolled": true
   },
   "outputs": [
    {
     "name": "stdout",
     "output_type": "stream",
     "text": [
      "RUNNING THE L-BFGS-B CODE\n",
      "\n",
      "           * * *\n",
      "\n",
      "Machine precision = 2.220D-16\n",
      " N =           20     M =           10\n",
      "\n",
      "At X0         0 variables are exactly at the bounds\n",
      "\n",
      "At iterate    0    f=  2.36637D+02    |proj g|=  8.68442D-01\n",
      "\n",
      "At iterate   50    f=  2.36658D+00    |proj g|=  1.97582D-02\n",
      "\n",
      "At iterate  100    f=  1.61181D+00    |proj g|=  1.58430D-02\n",
      "\n",
      "At iterate  150    f=  1.39755D+00    |proj g|=  3.01579D-03\n",
      "\n",
      "At iterate  200    f=  1.34032D+00    |proj g|=  6.62901D-03\n",
      "\n",
      "At iterate  250    f=  1.18206D+00    |proj g|=  2.10218D-03\n",
      "\n",
      "At iterate  300    f=  1.06964D+00    |proj g|=  6.10465D-03\n",
      "\n",
      "At iterate  350    f=  1.06137D+00    |proj g|=  1.82683D-03\n",
      "\n",
      "At iterate  400    f=  1.05864D+00    |proj g|=  2.40559D-03\n",
      "\n",
      "At iterate  450    f=  1.05313D+00    |proj g|=  5.25158D-03\n",
      "\n",
      "At iterate  500    f=  1.04385D+00    |proj g|=  1.99229D-03\n",
      "\n",
      "At iterate  550    f=  1.02772D+00    |proj g|=  1.04134D-02\n",
      "\n",
      "At iterate  600    f=  7.65950D-01    |proj g|=  5.79120D-02\n",
      "\n",
      "At iterate  650    f=  6.79600D-01    |proj g|=  2.09024D-03\n",
      "\n",
      "At iterate  700    f=  6.63569D-01    |proj g|=  1.83038D-03\n",
      "\n",
      "At iterate  750    f=  6.60687D-01    |proj g|=  3.96617D-03\n",
      "\n",
      "At iterate  800    f=  6.57211D-01    |proj g|=  3.00704D-03\n",
      "\n",
      "At iterate  850    f=  6.55605D-01    |proj g|=  9.70534D-04\n",
      "\n",
      "At iterate  900    f=  6.55210D-01    |proj g|=  1.18052D-03\n",
      "\n",
      "At iterate  950    f=  6.54876D-01    |proj g|=  2.64876D-03\n",
      "\n",
      "At iterate 1000    f=  6.49314D-01    |proj g|=  2.58701D-03\n",
      "\n",
      "At iterate 1050    f=  6.07289D-01    |proj g|=  2.16511D-02\n",
      "\n",
      "At iterate 1100    f=  5.79740D-01    |proj g|=  2.59238D-03\n",
      "\n",
      "At iterate 1150    f=  5.71432D-01    |proj g|=  2.83049D-02\n",
      "\n",
      "At iterate 1200    f=  5.61833D-01    |proj g|=  1.21588D-03\n",
      "\n",
      "At iterate 1250    f=  5.58540D-01    |proj g|=  3.77797D-03\n",
      "\n",
      "At iterate 1300    f=  5.55514D-01    |proj g|=  7.47726D-03\n",
      "\n",
      "At iterate 1350    f=  5.53420D-01    |proj g|=  4.89475D-04\n",
      "\n",
      "At iterate 1400    f=  5.53056D-01    |proj g|=  4.75486D-04\n",
      "\n",
      "At iterate 1450    f=  5.52962D-01    |proj g|=  1.41576D-04\n",
      "      fun: 0.5529581495216099\n",
      " hess_inv: <20x20 LbfgsInvHessProduct with dtype=float64>\n",
      "      jac: array([-2.53574918e-05, -3.60489130e-05,  4.46865048e-05, -6.61692398e-05,\n",
      "       -3.38506972e-05, -4.88941832e-05, -3.03695957e-03, -1.85611526e-03,\n",
      "       -1.06947784e-04, -4.47308857e-05,  7.80220333e-04, -2.66328071e-03,\n",
      "        5.74762004e-05,  4.09672262e-06, -2.12496518e-05, -6.06514357e-05,\n",
      "       -2.38697761e-06,  1.22790656e-05, -4.79393922e-05,  1.83186914e-06])\n",
      "  message: 'CONVERGENCE: NORM_OF_PROJECTED_GRADIENT_<=_PGTOL'\n",
      "     nfev: 33852\n",
      "      nit: 1461\n",
      "     njev: 1612\n",
      "   status: 0\n",
      "  success: True\n",
      "        x: array([-1.25499173e+01,  2.05505593e+02,  1.16403476e+02,  2.19726844e+02,\n",
      "       -5.42606577e+01, -1.53184408e+02,  1.00000000e-02,  1.00000000e-02,\n",
      "        1.00000000e-02,  1.00000000e-02, -1.00000000e-02,  1.00000000e-02,\n",
      "        1.38183651e+02,  5.46550281e+01, -1.92904452e+02, -1.31257487e+02,\n",
      "        1.74215141e+02, -5.32316368e+01,  1.99870684e+02,  1.18506327e+02])\n",
      "           * * *\n",
      "\n",
      "Tit   = total number of iterations\n",
      "Tnf   = total number of function evaluations\n",
      "Tnint = total number of segments explored during Cauchy searches\n",
      "Skip  = number of BFGS updates skipped\n",
      "Nact  = number of active bounds at final generalized Cauchy point\n",
      "Projg = norm of the final projected gradient\n",
      "F     = final function value\n",
      "\n",
      "\n",
      "           * * *\n",
      "\n",
      "   N    Tit     Tnf  Tnint  Skip  Nact     Projg        F\n",
      "   20   1461   1612   1510     0     6   6.617D-05   5.530D-01\n",
      "  F =  0.55295814952160993     \n",
      "\n",
      "CONVERGENCE: NORM_OF_PROJECTED_GRADIENT_<=_PGTOL            \n"
     ]
    }
   ],
   "source": [
    "# Run with bounds on angles\n",
    "res = minimize(mysymmminfunc, np.zeros(6+lig.num_angle+lig.num_torsion), \n",
    "               args=(lig, lig_coord_gt, iso), method='L-BFGS-B', \n",
    "               options={'iprint':50, 'maxfun': 100000, 'gtol': 1e-4},\n",
    "               bounds=[(None, None)] * 6 + [(-0.01, 0.01)] * lig.num_angle + [(None, None)] * lig.num_torsion)\n",
    "#                bounds=[(None, None), (None, None), (None, None), (0, 180), (0, 360), \n",
    "                       #*([(None, None)] * lig.num_torsion)], options={'iprint': 10})\n",
    "\n",
    "print(res)"
   ]
  },
  {
   "cell_type": "code",
   "execution_count": null,
   "id": "e7fb6f8b",
   "metadata": {
    "scrolled": true
   },
   "outputs": [
    {
     "name": "stdout",
     "output_type": "stream",
     "text": [
      "RUNNING THE L-BFGS-B CODE\n",
      "\n",
      "           * * *\n",
      "\n",
      "Machine precision = 2.220D-16\n",
      " N =           20     M =           10\n",
      "\n",
      "At X0         0 variables are exactly at the bounds\n",
      "\n",
      "At iterate    0    f=  2.36637D+02    |proj g|=  8.68442D-01\n"
     ]
    },
    {
     "name": "stderr",
     "output_type": "stream",
     "text": [
      " This problem is unconstrained.\n"
     ]
    }
   ],
   "source": [
    "res = minimize(mysymmminfunc, np.zeros(6+lig.num_angle+lig.num_torsion), \n",
    "               args=(lig, lig_coord_gt, iso), method='L-BFGS-B', \n",
    "               options={'iprint':50, 'maxfun': 100000, 'gtol': 1e-4})\n",
    "               #bounds=[(None, None), (None, None), (None, None), (0, 180), (0, 360), \n",
    "                       #*([(None, None)] * lig.num_torsion)], options={'iprint': 10})\n",
    "\n",
    "print(res)"
   ]
  },
  {
   "cell_type": "code",
   "execution_count": 11,
   "id": "30d0be08",
   "metadata": {},
   "outputs": [],
   "source": [
    "lig.set_coordinates(lig.transform(0, x_to_dict(res.x, lig)))\n",
    "lig.save('test_min.pdb')"
   ]
  },
  {
   "cell_type": "code",
   "execution_count": 45,
   "id": "8abf3927",
   "metadata": {},
   "outputs": [],
   "source": [
    "from spyrmsd import rmsd"
   ]
  },
  {
   "cell_type": "code",
   "execution_count": 47,
   "id": "7f60dcf5",
   "metadata": {},
   "outputs": [
    {
     "data": {
      "text/plain": [
       "array(['P', 'O', 'O', 'O', 'P', 'O', 'O', 'O', 'P', 'O', 'O', 'O', 'O',\n",
       "       'C', 'C', 'O', 'C', 'O', 'C', 'O', 'C', 'N', 'C', 'N', 'C', 'C',\n",
       "       'N', 'N', 'C', 'N', 'C'], dtype='<U1')"
      ]
     },
     "execution_count": 47,
     "metadata": {},
     "output_type": "execute_result"
    }
   ],
   "source": [
    "lig."
   ]
  },
  {
   "cell_type": "code",
   "execution_count": 10,
   "id": "88b76f5f",
   "metadata": {},
   "outputs": [
    {
     "name": "stdout",
     "output_type": "stream",
     "text": [
      "Initial Kabsch RMSD: 2.1915280722526695\n",
      "Final RMSD: 0.5632987965427904\n",
      "Final Kabsch RMSD:  0.5632987962481528\n"
     ]
    }
   ],
   "source": [
    "# print(\"Ground truth\")\n",
    "# print(lig_coord_gt)\n",
    "\n",
    "# print(\"Minimized result\")\n",
    "# print(lig.transform(0, res.x))\n",
    "\n",
    "print(\"Initial Kabsch RMSD:\", end=' ')\n",
    "print(Kabsch_RMSD(lig_coord_gt, lig.get_coordinates())[0])\n",
    "\n",
    "print(\"Final RMSD:\", end=' ')\n",
    "print(pureRMSD(lig_coord_gt, lig.transform(0, res.x)))\n",
    "\n",
    "print(\"Final Kabsch RMSD: \", end=' ')\n",
    "print(Kabsch_RMSD(lig_coord_gt, lig.transform(0, res.x))[0])"
   ]
  },
  {
   "cell_type": "code",
   "execution_count": null,
   "id": "45d86f01",
   "metadata": {},
   "outputs": [],
   "source": []
  }
 ],
 "metadata": {
  "kernelspec": {
   "display_name": "Python 3 (ipykernel)",
   "language": "python",
   "name": "python3"
  },
  "language_info": {
   "codemirror_mode": {
    "name": "ipython",
    "version": 3
   },
   "file_extension": ".py",
   "mimetype": "text/x-python",
   "name": "python",
   "nbconvert_exporter": "python",
   "pygments_lexer": "ipython3",
   "version": "3.8.13"
  }
 },
 "nbformat": 4,
 "nbformat_minor": 5
}
